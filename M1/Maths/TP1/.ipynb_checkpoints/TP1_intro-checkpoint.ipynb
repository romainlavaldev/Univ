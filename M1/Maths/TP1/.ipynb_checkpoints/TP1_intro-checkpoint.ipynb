{
 "cells": [
  {
   "cell_type": "markdown",
   "metadata": {},
   "source": [
    "# Calcul numérique TP1\n",
    "\n",
    "## Partie 1 : Les bases en Python\n",
    "\n",
    "Ce TP a pour objectif de vous familiariser avec les commandes de base en Python, mais également de vous faire découvrir les outils de calcul matriciel (avec `numpy`) que nous allons utiliser sur l'ensemble des TPs de calcul numérique.\n",
    "\n",
    "Vous pouvez utiliser ce notebook directement pour y mettre vos éléments de code, vos commentaires et notes concernant l'ensemble de la séance."
   ]
  },
  {
   "cell_type": "markdown",
   "metadata": {},
   "source": [
    "### Exercice 1: les types et les conteneurs\n",
    "\n",
    "1) Vérifier les types des valeurs suivantes en exécutant la commande `type(4)`. Si certains de ces types sont encore inconnus, relire le cours sur les bases en python !\n",
    "\n",
    "`4; 4.0; -1; 2.4; None; a; ’hello’; \"hello\"; 0; True; False\n",
    "[1, 2]; [1, 2.4]; [’a’, ’b’]; (1,3,5); (\"a\", 2); {’one’:’un’, ’zero’:’zéro’}`"
   ]
  },
  {
   "cell_type": "code",
   "execution_count": 5,
   "metadata": {},
   "outputs": [
    {
     "name": "stdout",
     "output_type": "stream",
     "text": [
      "type de 4 : <class 'int'>\n",
      "type de 4.0 : <class 'float'>\n",
      "type de -1 : <class 'int'>\n",
      "type de 2.4 : <class 'float'>\n",
      "type de None : <class 'NoneType'>\n",
      "type de a : <class 'str'>\n",
      "type de hello : <class 'str'>\n",
      "type de hello : <class 'str'>\n",
      "type de 0 : <class 'int'>\n",
      "type de True : <class 'bool'>\n",
      "type de False : <class 'bool'>\n",
      "type de [1, 2] : <class 'list'>\n",
      "type de [1, 2.4] : <class 'list'>\n",
      "type de ['a', 'b'] : <class 'list'>\n",
      "type de (1, 3, 5) : <class 'tuple'>\n",
      "type de ('a', 2) : <class 'tuple'>\n",
      "type de {'one': 'un', 'zero': 'zéro'} : <class 'dict'>\n"
     ]
    }
   ],
   "source": [
    "a = 4\n",
    "print(f\"type de {a} : {type(a)}\")\n",
    "\n",
    "a = 4.0\n",
    "print(f\"type de {a} : {type(a)}\")\n",
    "\n",
    "a = -1\n",
    "print(f\"type de {a} : {type(a)}\")\n",
    "\n",
    "a = 2.4\n",
    "print(f\"type de {a} : {type(a)}\")\n",
    "\n",
    "a = None\n",
    "print(f\"type de {a} : {type(a)}\")\n",
    "\n",
    "a = 'a'\n",
    "print(f\"type de {a} : {type(a)}\")\n",
    "\n",
    "a = 'hello'\n",
    "print(f\"type de {a} : {type(a)}\")\n",
    "\n",
    "a = \"hello\"\n",
    "print(f\"type de {a} : {type(a)}\")\n",
    "\n",
    "a = 0\n",
    "print(f\"type de {a} : {type(a)}\")\n",
    "\n",
    "a = True\n",
    "print(f\"type de {a} : {type(a)}\")\n",
    "\n",
    "\n",
    "a = False\n",
    "print(f\"type de {a} : {type(a)}\")\n",
    "\n",
    "\n",
    "a = [1,2]\n",
    "print(f\"type de {a} : {type(a)}\")\n",
    "\n",
    "\n",
    "a = [1, 2.4]\n",
    "print(f\"type de {a} : {type(a)}\")\n",
    "\n",
    "\n",
    "a = ['a', 'b']\n",
    "print(f\"type de {a} : {type(a)}\")\n",
    "\n",
    "\n",
    "a = (1,3,5)\n",
    "print(f\"type de {a} : {type(a)}\")\n",
    "\n",
    "\n",
    "a = (\"a\", 2)\n",
    "print(f\"type de {a} : {type(a)}\")\n",
    "\n",
    "\n",
    "a = {'one':'un', 'zero':'zéro'}\n",
    "print(f\"type de {a} : {type(a)}\")\n",
    "\n"
   ]
  },
  {
   "cell_type": "markdown",
   "metadata": {},
   "source": [
    "2) Affecter les variables suivantes: `var_int = 1; var_float = 2.51; var_str = ’hello’; var_bool = True` \n",
    "\n",
    "Convertir les types de ces quatre variables en utilisant les fonctions `int(); float(); str(); bool()`. \n",
    "\n",
    "Vérifier les valeurs et les types obtenus après conversion.\n",
    "En particulier remarquer le résultat de `bool(var_int)` et `int(var_float)`.\n",
    "Vous pouvez bien sûr tester d’autres combinaisons, par curiosité."
   ]
  },
  {
   "cell_type": "code",
   "execution_count": 24,
   "metadata": {},
   "outputs": [
    {
     "name": "stdout",
     "output_type": "stream",
     "text": [
      "True\n",
      "type :  <class 'bool'>\n",
      "1.0\n",
      "type :  <class 'float'>\n",
      "1\n",
      "type :  <class 'str'>\n",
      "2\n",
      "type :  <class 'int'>\n",
      "2.51\n",
      "type :  <class 'str'>\n",
      "True\n",
      "type :  <class 'bool'>\n",
      "True\n",
      "type :  <class 'bool'>\n",
      "1\n",
      "type :  <class 'int'>\n",
      "1.0\n",
      "type :  <class 'float'>\n",
      "True\n",
      "type :  <class 'str'>\n"
     ]
    }
   ],
   "source": [
    "var_int = 1; var_float = 2.51; var_str = \"hello\"; var_bool = True\n",
    "print(bool(var_int))\n",
    "print(\"type : \", type(bool(var_int)))\n",
    "\n",
    "print(float(var_int))\n",
    "print(\"type : \", type(float(var_int)))\n",
    "print(str(var_int))\n",
    "print(\"type : \", type(str(var_int)))\n",
    "\n",
    "print(int(var_float))\n",
    "print(\"type : \", type(int(var_float)))\n",
    "print(str(var_float))\n",
    "print(\"type : \", type(str(var_float)))\n",
    "print(bool(var_float))\n",
    "print(\"type : \", type(bool(var_float)))\n",
    "\n",
    "print(bool(var_str))\n",
    "print(\"type : \", type(bool(var_str)))\n",
    "\n",
    "print(int(var_bool))\n",
    "print(\"type : \", type(int(var_bool)))\n",
    "print(float(var_bool))\n",
    "print(\"type : \", type(float(var_bool)))\n",
    "print(str(var_bool))\n",
    "print(\"type : \", type(str(var_bool)))\n"
   ]
  },
  {
   "cell_type": "markdown",
   "metadata": {},
   "source": [
    "3) Pour les variables `var` suivantes, donner les valeurs qu’elles contiennent (on pourra utiliser la commande `print(var)`) et  leur type. Faites d’autres propositions permettant d’obtenir le même contenu.\n",
    "\n",
    "Que retourne `var[2]` ? Quel effet a la commande `var[2] = 6`, pourquoi ? Si il y a une erreur, proposer une commande adaptée qui ne génère pas d’erreur."
   ]
  },
  {
   "cell_type": "code",
   "execution_count": 50,
   "metadata": {},
   "outputs": [
    {
     "name": "stdout",
     "output_type": "stream",
     "text": [
      "valeur : [0, 1, 2, 3, 4, 5, 6, 7, 8, 9] - type : <class 'list'>\n",
      "valeur : [0, 1, 2, 3, 4, 5, 6, 7, 8, 9] - type : <class 'list'>\n",
      "valeur : informatique - type : <class 'str'>\n",
      "valeur : Informatique - type : <class 'str'>\n",
      "valeur : {'info': 3, 'maths': 5, 'musique': 10, 'foot': 7} - type : <class 'dict'>\n",
      "6\n",
      "valeur : {'info': 3, 'maths': 5, 'musique': 10, 'foot': 7, 2: 6} - type : <class 'dict'>\n",
      "10\n"
     ]
    }
   ],
   "source": [
    "var = list(range(10))\n",
    "print(f\"valeur : {var} - type : {type(var)}\")\n",
    "var = [0,1,2,3,4,5,6,7,8,9]\n",
    "print(f\"valeur : {var} - type : {type(var)}\")\n",
    "\n",
    "\n",
    "\n",
    "var = \"informatique\"\n",
    "print(f\"valeur : {var} - type : {type(var)}\")\n",
    "var = 'Informatique'\n",
    "print(f\"valeur : {var} - type : {type(var)}\")\n",
    "\n",
    "var = {\"info\":3, \"maths\":5, \"musique\":10, \"foot\":7}\n",
    "print(f\"valeur : {var} - type : {type(var)}\")\n",
    "var = {}\n",
    "var[\"info\"] = 3\n",
    "var[\"maths\"] = 5\n",
    "var[\"musique\"] = 10\n",
    "var[\"foot\"] = 7\n",
    "var[2] = 6\n",
    "print(var[2])\n",
    "print(f\"valeur : {var} - type : {type(var)}\")\n",
    "\n",
    "print(var[list(var)[2]])\n"
   ]
  },
  {
   "cell_type": "markdown",
   "metadata": {},
   "source": [
    "### Exercice 2: les entrées / sorties"
   ]
  },
  {
   "cell_type": "markdown",
   "metadata": {},
   "source": [
    "1) Avec la fonction `input()`créer une variable `var`contenant une valeur qui aura été saisie à la main au clavier. Afficher cette variable avec la fonction `print`. Cette approche sera surtout utile lorsque vous utiliserez un script."
   ]
  },
  {
   "cell_type": "code",
   "execution_count": 36,
   "metadata": {},
   "outputs": [
    {
     "name": "stdout",
     "output_type": "stream",
     "text": [
      "bonjour à tous\n",
      "Entrée clavier :  bonjour à tous\n"
     ]
    }
   ],
   "source": [
    "var = input()\n",
    "print(\"Entrée clavier : \", var)\n"
   ]
  },
  {
   "cell_type": "markdown",
   "metadata": {},
   "source": [
    "2) Créer un fichier (avec `vim` par exemple) contenant le texte suivant:\n",
    "\n",
    "`MAN: Mise à niveau\n",
    "INFO: Master d'informatique`\n",
    "\n",
    "- [ ] ouvrir ce fichier avec la commande ci-dessous et les arguments appropriés. Afficher les lignes les unes après les autres.\n",
    "- [ ] écrire ensuite une troisième ligne dans le fichier précédent avec la fonction `write()` contenant:\n",
    "\n",
    "`M1: première année de master`\n",
    "\n",
    "Attention de pas oublier de **refermer** le fichier après l'avoir ouvert."
   ]
  },
  {
   "cell_type": "code",
   "execution_count": 38,
   "metadata": {},
   "outputs": [],
   "source": [
    "f = open('le_fichier', 'a', encoding = 'utf8')\n",
    "f.write(\"M1: première année de master\")\n",
    "f.close()"
   ]
  },
  {
   "cell_type": "markdown",
   "metadata": {},
   "source": [
    "### Exercice 3: écrire des fonctions en Python\n",
    "\n",
    "Vous avez à disposition un dictionnaire de prononciations phonétiques. Une prononciation est une séquence de symboles phonétiques séparés par des espaces. Pour chaque ligne, vous disposez d’un mot, de sa prononci- ation phonétique donnée selon l’alphabet X-Sampa et de sa prononciation phonétique donnée selon l’alphabet IPA. Vous ne considérerez que la prononciation donnée en X-Sampa. Les mots et les prononciations sont séparées par des point-virgules.\n",
    "\n",
    "**Préliminaire**\n",
    "Le code ci-dessous vous permet d'afficher une chaine de caractère. Vérifier que la chaine de caractère s'affiche correctement."
   ]
  },
  {
   "cell_type": "code",
   "execution_count": null,
   "metadata": {},
   "outputs": [],
   "source": [
    "ma_chaine = 'Hello World'\n",
    "print(ma_chaine)"
   ]
  },
  {
   "cell_type": "markdown",
   "metadata": {},
   "source": [
    "1) Ouvrir le fichier de prononciation `synpaflex-pronunciation-dictionary.txt` et afficher les $n$ premières lignes du fichier (équivalent de la commande unix `head`).\n",
    "Pourquoi y a-t-il une ligne vide entre chaque affichage ? Corriger cela avec la fonction `strip()`."
   ]
  },
  {
   "cell_type": "code",
   "execution_count": null,
   "metadata": {},
   "outputs": [],
   "source": [
    "f = open('synpaflex-pronunciation-dictionary.txt', 'r')\n",
    "\n",
    "f.close()"
   ]
  },
  {
   "cell_type": "markdown",
   "metadata": {},
   "source": [
    "2) Créer une fonction `ReadPron(name)` prenant en argument le nom du fichier de pronciation. Cette fonction lit l'ensemble du fichier de prononciation, stocke les lignes une à une dans un dictionnaire et retourne ce dictionnaire. Les clés seront les mots. Les valeurs seront des prononciations suivant l’alphabet X-SAMPA. Penser à supprimer les espaces en début et fin de chaîne de caractère."
   ]
  },
  {
   "cell_type": "code",
   "execution_count": null,
   "metadata": {},
   "outputs": [],
   "source": [
    "def ReadPron(name):\n",
    "    f = open(name, 'r')\n",
    "    dicPron = {}\n",
    "    ...\n",
    "    return dicPron\n",
    "\n",
    "DicPron = ReadPron('synpaflex-pronunciation-dictionary.txt')\n"
   ]
  },
  {
   "cell_type": "markdown",
   "metadata": {},
   "source": [
    "3) Créer une fonction `AfficherPron(m, dicPron)` qui prend en argument un mot et le dictionnaire fourni par la fonction précédente et affiche à l'écran la prononciation correspondante à ce mot. \n",
    "\n",
    "Attention au cas où le mot ne serait pas dans le dictionnaire.\n",
    "\n",
    "- [ ] donner la pronciation du mot _abandonna_"
   ]
  },
  {
   "cell_type": "code",
   "execution_count": null,
   "metadata": {},
   "outputs": [],
   "source": [
    "def AfficherPron(m, dicPron):\n",
    "    ...\n",
    "    \n",
    "DicPron = AfficherPron('abandonna', DicPron)"
   ]
  },
  {
   "cell_type": "markdown",
   "metadata": {},
   "source": [
    "4) Créer une fonction `AfficherMots(p, dicPron)` qui stocke dans une liste l'ensemble des mots qui ont une prononciation donnée, les compte et les affiche.\n",
    "\n",
    "- [ ] donner l'ensemble des mots qui se prononcent \"/k u l e/\". **Attention** il faut respecter la syntaxe du fichier de prononciation."
   ]
  },
  {
   "cell_type": "code",
   "execution_count": null,
   "metadata": {},
   "outputs": [],
   "source": [
    "def AfficherMots(p, dicPron):\n",
    "    mots = []\n",
    "    ...\n",
    "    return mots\n",
    "\n",
    "motsLi = AfficherMots(' k u l e', DicPron)"
   ]
  },
  {
   "cell_type": "markdown",
   "metadata": {},
   "source": [
    "---\n",
    "## Partie 2: Utilisation de Numpy pour le calcul vectoriel\n",
    "\n",
    "Numpy est un module Python pour le calcul numérique. Il est écrit en C. On l'utilise principalement pour le calcul matriciel, le traitement de données multi-dimensionnelles. C'est un outil de base pour le **machine learning**.\n",
    "\n",
    "Une matrice est une structure de données en forme tableau à 2 dimensions disposée en colonnes et en lignes. La matrice ci dessous est composée de 4 colonnes et 3 lignes:\n",
    "$$\\begin{bmatrix}\n",
    "2 & -5& -11 & 0 \\\\ -10 & 4 & 6 & 13 \\\\ 4 & 7 & 12 & -2\n",
    "\\end{bmatrix}$$"
   ]
  },
  {
   "cell_type": "code",
   "execution_count": 51,
   "metadata": {},
   "outputs": [
    {
     "data": {
      "text/plain": [
       "array([[  2,  -5, -11,   0],\n",
       "       [-10,   4,   6,  13],\n",
       "       [  4,   7,  12,  -2]])"
      ]
     },
     "execution_count": 51,
     "metadata": {},
     "output_type": "execute_result"
    }
   ],
   "source": [
    "import numpy as np\n",
    "np.array([[2, -5, -11, 0], \n",
    "    [-10, 4, 6, 13],\n",
    "    [4, 7, 12, -2]])"
   ]
  },
  {
   "cell_type": "markdown",
   "metadata": {},
   "source": [
    "### Exercice 1: Prise en main\n",
    "\n",
    "1) Cette librairie permet de faire des opérations rapides sur les vecteurs et les matrices qu'on appelle des `array`. Tous les éléments d'un tableau (ou array) sont du même type. \n",
    "- [ ] Afficher les types des variables suivantes.\n",
    "- [ ] Comment fonctionne le typage des éléments d'un array ?"
   ]
  },
  {
   "cell_type": "code",
   "execution_count": 52,
   "metadata": {},
   "outputs": [
    {
     "name": "stdout",
     "output_type": "stream",
     "text": [
      "le type d une liste python est:  <class 'list'>\n",
      "le type d un array est:  <class 'numpy.ndarray'>\n",
      "le type des éléments de lst est:  <class 'numpy.int64'>\n",
      "le type des éléments de lst est:  <class 'numpy.float64'>\n",
      "On peut modifier le type des éléments d un array:  <class 'numpy.complex128'>\n"
     ]
    }
   ],
   "source": [
    "lst = [2, 3, 4, 1]\n",
    "print('le type d une liste python est: ', type(lst))\n",
    "a = np.array(lst)\n",
    "print('le type d un array est: ', type(a))\n",
    "print('le type des éléments de lst est: ', type(a[0]))\n",
    "b = np.array([2.0, 3, 4, 1])\n",
    "print('le type des éléments de lst est: ', type(b[2]))\n",
    "c = np.array(lst, dtype = complex)\n",
    "print('On peut modifier le type des éléments d un array: ', type(c[0]))"
   ]
  },
  {
   "cell_type": "markdown",
   "metadata": {},
   "source": [
    "2) Un **vecteur** est un array de dimension 1. Une **matrice** est un array de dimension 2. On peut vérifier la dimension avec l'attribut `shape`. \n",
    "- [ ] Afficher les dimensions des arrays A et B suivantes.\n",
    "- [ ] Afficher le type des éléments de B.\n",
    "- [ ] Modifier le type de B pour que tous ses éléments soient des entiers.\n",
    "- [ ] Modifier la matrice pour que tous ses éléments soient des booléens.\n",
    "- [ ] Peut-on faire cette dernière opération sur la matrice B ? Pourquoi"
   ]
  },
  {
   "cell_type": "code",
   "execution_count": 71,
   "metadata": {},
   "outputs": [
    {
     "name": "stdout",
     "output_type": "stream",
     "text": [
      "Dim A :  (4,)\n",
      "Dim B :  (2, 4)\n",
      "int64\n",
      "float16\n",
      "[[ True  True  True  True]\n",
      " [ True  True  True  True]]\n"
     ]
    }
   ],
   "source": [
    "A = np.array([1,2,3,4])\n",
    "print(\"Dim A : \", A.shape)\n",
    "\n",
    "\n",
    "B = np.array([[1,2,3,4],[5,6,7,8]])\n",
    "\n",
    "print(\"Dim B : \", B.shape)\n",
    "print(B.dtype)\n",
    "B = np.array(B, dtype=np.float16)\n",
    "print(B.dtype)\n",
    "\n",
    "\n",
    "B = np.array(B, dtype=bool)\n",
    "print(B)"
   ]
  },
  {
   "cell_type": "markdown",
   "metadata": {},
   "source": [
    "L'une des puissances de numpy est de pouvoir faire des opérations rapidement en utilisant les indices de chacun de ses éléments (slicing).\n",
    "- [ ] Indiquer pour chacun des `print` un commentaire expliquant ce qui est affiché.\n",
    "- [ ] Observer l'exemple ci-dessous et afficher le dernier élément de la première ligne de la matrice C.\n",
    "- [ ] Quel est le type de la variable `column` ?"
   ]
  },
  {
   "cell_type": "code",
   "execution_count": 78,
   "metadata": {},
   "outputs": [
    {
     "name": "stdout",
     "output_type": "stream",
     "text": [
      "C = [[ 1  4  5 12]\n",
      " [-5  8  9  0]\n",
      " [-6  7 11 19]]\n",
      "C[1] = [-5  8  9  0]\n",
      "C[1][2] = 9\n",
      "C[1,2] = 9\n",
      "Dernier élément de la 1ère ligne = 12\n",
      "Deux premiers éléments de la 2eme ligne = [-5  8]\n",
      "Type de column :  <class 'list'>\n",
      "3eme colonne = [5, 9, 11]\n"
     ]
    }
   ],
   "source": [
    "C = np.array([[1, 4, 5, 12], \n",
    "    [-5, 8, 9, 0],\n",
    "    [-6, 7, 11, 19]])\n",
    "\n",
    "\n",
    "print(\"C =\", C) #Affichage de la matrice\n",
    "print(\"C[1] =\", C[1]) #Affichage du deuxième vecteur de la matrice\n",
    "print(\"C[1][2] =\", C[1][2]) #Affichage du 3eme scalaire du 2eme vecteur de la matrice\n",
    "print(\"C[1,2] =\", C[1,2]) # //\n",
    "print(\"Dernier élément de la 1ère ligne =\", C[0,-1])\n",
    "print(\"Deux premiers éléments de la 2eme ligne =\", C[1,:2])\n",
    "\n",
    "column = [];\n",
    "print(\"Type de column : \", type(column))\n",
    "for row in C:\n",
    "  column.append(row[2])   \n",
    "\n",
    "print(\"3eme colonne =\", column)"
   ]
  },
  {
   "cell_type": "markdown",
   "metadata": {},
   "source": [
    "- [ ] Construire un tableau `letters` où chaque élément est un mot de la phrase. Les mots sont séparés par des espaces.\n",
    "- [ ] Commenter les lignes d'affichage pour expliquer l'opération de slicing qui est réalisée."
   ]
  },
  {
   "cell_type": "code",
   "execution_count": 82,
   "metadata": {},
   "outputs": [
    {
     "name": "stdout",
     "output_type": "stream",
     "text": [
      "['le' 'chateau' 'dans' 'le' 'ciel' 'est' 'film' 'japonais']\n",
      "['dans' 'le' 'ciel']\n",
      "['dans' 'ciel' 'film']\n",
      "['le' 'chateau' 'dans']\n",
      "['est' 'film' 'japonais']\n",
      "['le' 'chateau' 'dans' 'le' 'ciel' 'est' 'film' 'japonais']\n",
      "['japonais' 'film' 'est' 'ciel' 'le' 'dans' 'chateau' 'le']\n"
     ]
    }
   ],
   "source": [
    "sentence = 'le chateau dans le ciel est film japonais'\n",
    "letters = np.array(sentence.split(\" \"))\n",
    "print(letters)\n",
    "print(letters[2:5]) #Affichage du 3eme mots au 6eme exclu\n",
    "print(letters[2:8:2]) #Affichage à partir du 3eme mot jusqu'au 9eme exclu avec un pas de 2\n",
    "print(letters[:-5]) #Affichage du debut jusqu'au 6eme mot en partant de la fin exclu\n",
    "print(letters[5:]) #Affichage du 6eme mot jusqu'à la fin\n",
    "print(letters[:]) #Affichage du début à la fin\n",
    "print(letters[::-1]) #Affichage du debut à la fin avec un pas de -1"
   ]
  },
  {
   "cell_type": "markdown",
   "metadata": {},
   "source": [
    "A partir de la matrice X donnée ci-dessous:\n",
    "- [ ] Récupérer les 2 premières lignes et les 3 premières colonnes\n",
    "- [ ] Récupérer la première ligne, toutes les colonnes\n",
    "- [ ] Toutes les lignes, la 2ème colonne\n",
    "- [ ] Toutes les lignes, la 1ère et 3ème colonnes."
   ]
  },
  {
   "cell_type": "code",
   "execution_count": 102,
   "metadata": {},
   "outputs": [
    {
     "name": "stdout",
     "output_type": "stream",
     "text": [
      "[[  2  -5 -11   0]\n",
      " [-10   4   6  13]] \n",
      "\n",
      "[[  2  -5 -11]\n",
      " [-10   4   6]\n",
      " [  4   7  12]] \n",
      "\n",
      "[  2  -5 -11   0] \n",
      "\n",
      "[-5  4  7] \n",
      "\n",
      "[[  2 -11]\n",
      " [-10   6]\n",
      " [  4  12]] \n",
      "\n"
     ]
    }
   ],
   "source": [
    "X = np.array([[2, -5, -11, 0], \n",
    "    [-10, 4, 6, 13],\n",
    "    [4, 7, 12, -2]])\n",
    "\n",
    "print(X[:2], '\\n')\n",
    "print(X[:,:3], '\\n')\n",
    "\n",
    "print(X[0], '\\n')\n",
    "\n",
    "print(X[:,1], '\\n')\n",
    "\n",
    "print(X[:,::2], '\\n')\n",
    "\n",
    "\n"
   ]
  },
  {
   "cell_type": "markdown",
   "metadata": {},
   "source": [
    "3) A l'aide des arrays particuliers `np.eye()`, `np.zeros()` et `np.ones()`, construire:\n",
    "- [ ] un vecteur contenant 5 zéros\n",
    "- [ ] un vecteur contenant 4 1\n",
    "- [ ] une matrice ayant 2 lignes et 5 colonnes ne contenant que des zéros\n",
    "- [ ] une matrice carrée de dimension 3 ne contenant que des 1\n",
    "- [ ] une matrice identité de dimension 3.\n",
    "Vous vous aiderez de la documentation en ligne de numpy."
   ]
  },
  {
   "cell_type": "code",
   "execution_count": 104,
   "metadata": {},
   "outputs": [
    {
     "name": "stdout",
     "output_type": "stream",
     "text": [
      "[0. 0. 0. 0. 0.]\n"
     ]
    }
   ],
   "source": [
    "print(np.zeros(5))"
   ]
  },
  {
   "cell_type": "markdown",
   "metadata": {},
   "source": [
    "Il existe encore plein de matrices spéciales avec Numpy. En voici quelques unes qui nous serviront pendant les TPs. Observez bien comment les utiliser."
   ]
  },
  {
   "cell_type": "code",
   "execution_count": null,
   "metadata": {},
   "outputs": [],
   "source": [
    "x = np.arange(9)       #liste de n éléments de 0 à n-1\n",
    "y = np.linspace(0,1,5) #np.linspace(debut, fin, nb)"
   ]
  },
  {
   "cell_type": "markdown",
   "metadata": {},
   "source": [
    "4) Nous allons maintenant étudier les attributs et méthodes de ces arrays. \n",
    "- [ ] Expliquer avec un commentaire sur chaque ligne, à quoi correspondent chacun des attributs ou méthodes suivantes. \n",
    "- [ ] En particulier bien observer le comportement de `w.sort()` sur la matrice w."
   ]
  },
  {
   "cell_type": "code",
   "execution_count": null,
   "metadata": {},
   "outputs": [],
   "source": [
    "x = np.arange(9)\n",
    "print(x.size, x.shape, x.ndim)\n",
    "y = x.reshape((3,3))\n",
    "print(y.size, y.shape, y.ndim)\n",
    "\n",
    "print('type: ', y.dtype)\n",
    "print('min: ', y.min())\n",
    "print('max: ', y.max())\n",
    "print('argmax: ', y.argmax())\n",
    "print('sum: ', y.sum())\n",
    "print('sum0: ', y.sum(axis=0))\n",
    "print('sum1: ', y.sum(axis=1))\n",
    "\n",
    "w = np.eye(3)\n",
    "w.sort()"
   ]
  },
  {
   "cell_type": "markdown",
   "metadata": {},
   "source": [
    "5) Masking. On définit un masque m qui contient des booléens. L'utilisation du masking permet de ne récupérer que les éléments de b qui sont à `True` dans le masque. \n",
    "- [ ] Faites l'opération qui consiste à ne récupérer que les éléments qui sont à `True`"
   ]
  },
  {
   "cell_type": "code",
   "execution_count": null,
   "metadata": {},
   "outputs": [],
   "source": [
    "b = np.array([[ 2, 4, 6, 8], [12, 14, 16, 18], [22, 24, 26, 28]])\n",
    "m = np.array([[True, False, True, False],[True, False, True, False],[True, False, True, False]])"
   ]
  },
  {
   "cell_type": "markdown",
   "metadata": {},
   "source": [
    "6) Opérations matricielles. Nous allons maintenant faire des opérations entre les différents arrays. On définira une matrice m de dimensions $N \\times M$ telle que ses éléments sont $m_{ij}$ avec $i \\in [0; M]$ l'indice de la ligne et $j \\in [0; M]$ l'indice de la colonne.\n",
    "\n",
    "Créer deux matrices A et B non carrées de dimension au moins 3 et calculer les matrices suivantes:\n",
    "- [ ] `A+B` la somme matricielle $A+B$ (équivalent à la somme terme à terme)\n",
    "- [ ] `A*B` le produit d'Hadamard (ou produit terme à terme **différent du produit matriciel**) $D = A \\cdot B$ tel que $d_{ij} = a_{ij} \\times b_{ij}$\n",
    "- [ ] `A.dot(B)` le produit matriciel $E = A \\times B$\n",
    "- [ ] `A.transpose()` ou `A.T` la transposition d'une matrice $F = ^tA$\n",
    "- [ ] `A < B` le masque correspondant aux indices tels que $a_{ij} < b_{ij}$\n",
    "- [ ] les valeurs terme à terme issues de l'opération $\\sin(A) \\cdot e^{- A^2 /2}$"
   ]
  },
  {
   "cell_type": "markdown",
   "metadata": {},
   "source": [
    "7) Concaténation de matrices. Les matrices peuvent être accolées soit verticalement (`np.vstack()`) soit horizontalement (`np.hstack()`). Toujours bien vérifier la dimension sur laquelle on fait la concaténation pour ne pas tromper entre les lignes et les colonnes.\n",
    "- [ ] concaténer les matrices a et b en vérifiant que l'axe choisi est adapté.\n",
    "- [ ] utiliser la transposition de matrice `np.transpose()` pour faire la concaténation suivant un autre axe."
   ]
  },
  {
   "cell_type": "code",
   "execution_count": null,
   "metadata": {},
   "outputs": [],
   "source": [
    "a = np.ones((3,4))\n",
    "b = np.array([[ 2, 4, 6], [12, 14, 16], [22, 24, 26]])\n",
    "\n",
    "#print(np.concatenate((a,b), axis=0))\n",
    "#print(np.hstack((a,b)))\n",
    "\n",
    "#print(np.concatenate((a,b), axis=1))\n",
    "#print(np.hstack((a,b)))"
   ]
  },
  {
   "cell_type": "markdown",
   "metadata": {},
   "source": [
    "### Exercice 2: Calcul matriciel pour l'algèbre linéaire\n",
    "\n",
    "Maintenant que nous avons vu les bases des opérations sur les matrices en numpy, nous allons pouvoir effectuer des opérations vues en cours d'algèbre linéaire."
   ]
  },
  {
   "cell_type": "markdown",
   "metadata": {},
   "source": [
    "1) Inverse d'une matrice. On n'oubliera pas de vérifier si une matrice est inversible en calculant son déterminant: $\\text{A est inversible} \\Leftrightarrow \\det(A) \\neq 0$\n",
    "\n",
    "Le calcul du déterminant peut être fait à la main, et vérifié avec la fonction `linalg.det(A)`.\n",
    "- [ ] créer une fonction qui prend une matrice en argument et vérifie si elle est inversible.\n",
    "- [ ] déterminer les matrices inverses de a et b. \n",
    "- [ ] vérifier que l'opération donne un résultat correct. On rappelle que $A^{-1} \\times A = I$, $I$ étant la matrice identité et $A^{-1}$ la matrice inverse."
   ]
  },
  {
   "cell_type": "code",
   "execution_count": null,
   "metadata": {},
   "outputs": [],
   "source": [
    "import numpy.linalg as la\n",
    "    \n",
    "a = np.array([[1, 2, 3],\n",
    "             [4, 5, 6],\n",
    "             [7, 8, 9]])\n",
    "\n",
    "b = np.array([[4, 7],\n",
    "              [2, 8]])\n",
    "a[0,0]"
   ]
  },
  {
   "cell_type": "markdown",
   "metadata": {},
   "source": [
    "### Exercice 3: subtilités en Python\n",
    "\n",
    "Etant donné que les variables ne sont ni typées, ni affectées de manière aussi forte qu'en C, on doit faire attention à quelques éléments quand on programme en Python.\n",
    "\n",
    "- [ ] Que remarquez-vous sur les valeurs de la matrice p, une fois le code ci-dessous exécuté? Expliquer.\n",
    "- [ ] Proposer une solution pour que la matrice p ne soit pas modifiée."
   ]
  },
  {
   "cell_type": "code",
   "execution_count": null,
   "metadata": {},
   "outputs": [],
   "source": [
    "p = np.array([[ 2, 4, 6, 8], [12, 14, 16, 18], [22, 24, 26, 28]])\n",
    "s = p\n",
    "print('s: ', s)\n",
    "s[0,0] = 0\n",
    "print('s: ', s)\n",
    "print('p: ', p)"
   ]
  },
  {
   "cell_type": "markdown",
   "metadata": {},
   "source": [
    "On peut définir en Python des fonctions qui prennent en entrée des tableaux numpy. Cependant il faut faire attention à ce que les entrées soient au bon format.\n",
    "- [ ] Utiliser la fonction `np.vectorize()` pour vectoriser la fonction `f`."
   ]
  },
  {
   "cell_type": "code",
   "execution_count": null,
   "metadata": {},
   "outputs": [],
   "source": [
    "def f(x):\n",
    "    k, s = 0.0,0\n",
    "    while k < x:\n",
    "        k +=1\n",
    "        s += k\n",
    "    return s\n",
    "\n",
    "print('f(3) = ', f(3))\n",
    "x = np.linspace(0,1,5)\n",
    "print('f(x) = ', f(x))"
   ]
  },
  {
   "cell_type": "markdown",
   "metadata": {},
   "source": [
    "---\n",
    "## Partie 3: Faire des statistiques avec Numpy\n",
    "\n",
    "Numpy contient les fonctions statistiques de base. Ces fonctions s'appliqueront sur des tableaux de type `array`. \n",
    "\n",
    "### Exercice 1: fonctions statistiques classiques\n",
    "\n",
    "1) Pour la matrice a suivante, calculer:\n",
    "- [ ] la variance globale sur tous les éléments et vérifier que l'écart-type au carré est bien égal à cette variance: $var(X) = \\sigma(X)^2$\n",
    "- [ ] la moyenne sur les colonnes."
   ]
  },
  {
   "cell_type": "code",
   "execution_count": null,
   "metadata": {},
   "outputs": [],
   "source": [
    "a = np.array([[ 2, 4, 6, 8], [12, 14, 16, 18], [22, 24, 26, 28]])\n",
    "print('moyenne: ', a.mean()) #moyenne de tous les éléments\n",
    "print('écart-type: ', a.std(axis = 0)) #écart-type p/r aux colonnes\n",
    "print('médiane: ', np.median(a, axis = 1)) #median p/r aux lignes"
   ]
  },
  {
   "cell_type": "markdown",
   "metadata": {},
   "source": [
    "### Exercice 2: Génération de nombres aléatoires suivant des lois de probabilités\n",
    "\n",
    "On pourra également utiliser la librairie `numpy.random` pour la génération de nombres aléatoires.\n",
    "- [ ] vérifier les dimensions de chacune des arrays générés.\n",
    "- [ ] générer 1000 valeurs suivant une loi normale centrée réduite\n",
    "- [ ] vérifier que la moyenne de ces 1000 valeurs est bien 0 et que l'écart-type est 1."
   ]
  },
  {
   "cell_type": "code",
   "execution_count": null,
   "metadata": {},
   "outputs": [],
   "source": [
    "import numpy.random as rdm\n",
    "\n",
    "print(rdm.rand(3)) #génère des nombres suivant une loi uniforme sur [0,1]\n",
    "print(rdm.rand(3))\n",
    "\n",
    "#print(rdm.binomial(10,0.3, (2,5)))#génère des nombres suivant une loi binomiale avec n=10 et p=0.3\n",
    "#print(rdm.normal(-3.5, 0.3, 10))#génère des nombres suivant une loi normale avec m=-3.5 et s=0.3\n",
    "#print(rdm.poisson(4.3, 5))#génère des nombres suivant une loi de poisson avec lambda=5"
   ]
  },
  {
   "cell_type": "code",
   "execution_count": null,
   "metadata": {},
   "outputs": [],
   "source": [
    "letters = np.array(['a', 'b', 'c', 'd'])\n",
    "rdm.shuffle(letters)\n",
    "print(letters)\n",
    "print(rdm.choice(letters,2)) #tirage aléatoire de 2 élements de letters"
   ]
  },
  {
   "cell_type": "markdown",
   "metadata": {},
   "source": [
    "### Exercice 3: Visualisation des distributions aléatoires\n",
    "\n",
    "En utilisant la librairie `matplotlib` vous pourrez tracer des graphiques. Cela vous sera utile pour représenter par exemple des distributions de nombres générés aléatoirement.\n",
    "\n",
    "- [ ] modifier les paramètres de loi (après avoir consulté la documentation correspondante) et observer les effets sur les distributions."
   ]
  },
  {
   "cell_type": "code",
   "execution_count": null,
   "metadata": {},
   "outputs": [],
   "source": [
    "import matplotlib.pyplot as plt\n",
    "plt.hist(rdm.uniform(0,1,100))\n",
    "plt.show()\n"
   ]
  },
  {
   "cell_type": "code",
   "execution_count": null,
   "metadata": {},
   "outputs": [],
   "source": [
    "plt.hist(rdm.normal(4,2,100))\n",
    "plt.show()"
   ]
  },
  {
   "cell_type": "markdown",
   "metadata": {},
   "source": [
    "- [ ] par rapport à ce que vous connaissez des variables aléatoires. Quelle grandeur est observée sur le graphique ci-dessous ?"
   ]
  },
  {
   "cell_type": "code",
   "execution_count": null,
   "metadata": {},
   "outputs": [],
   "source": [
    "L = np.sum(rdm.rand(40, 100000),0)\n",
    "plt.hist(L, 25, normed=’True’)\n",
    "plt.show()"
   ]
  }
 ],
 "metadata": {
  "kernelspec": {
   "display_name": "Python 3 (ipykernel)",
   "language": "python",
   "name": "python3"
  },
  "language_info": {
   "codemirror_mode": {
    "name": "ipython",
    "version": 3
   },
   "file_extension": ".py",
   "mimetype": "text/x-python",
   "name": "python",
   "nbconvert_exporter": "python",
   "pygments_lexer": "ipython3",
   "version": "3.8.13"
  }
 },
 "nbformat": 4,
 "nbformat_minor": 2
}
