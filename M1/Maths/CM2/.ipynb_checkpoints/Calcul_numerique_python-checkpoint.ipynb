{
 "cells": [
  {
   "cell_type": "markdown",
   "id": "celtic-whale",
   "metadata": {},
   "source": [
    "<img src='https://upload.wikimedia.org/wikipedia/fr/thumb/e/ed/Logo_Universit%C3%A9_du_Maine.svg/1280px-Logo_Universit%C3%A9_du_Maine.svg.png' width=\"300\" height=\"500\">\n",
    "<br>\n",
    "<div style=\"border: solid 3px #000;\">\n",
    "    <h1 style=\"text-align: center; color:#000; font-family:Georgia; font-size:26px;\">Mathématiques pour l'IA</h1>\n",
    "    <p style='text-align: center;'>Master Informatique 1</p>\n",
    "    <p style='text-align: center;'>Anhony Larcher</p>\n",
    "</div>\n",
    "\n",
    "Ce premier tutoriel est organisé en deux parties:\n",
    "* un guide pour l'environnement [**Jupyter-Notebook**](https://jupyter.org/documentation).\n",
    "* un guide pour le calcul matriciel en python\n",
    "\n",
    "# Introduction à Python et Jupyter-Notebook\n",
    "\n",
    "Un notebook est un environnement d'exécution interactif dans lequel le code peut etre executé, on peut aussi faire de l'affichage, de la visualisation graphique.\n",
    "\n",
    "Dans un notebook Jupyter, il est possible:\n",
    "* d'ajouter des cellules (ajoutez en une en dessous de celle-ci)\n",
    "* de créer des cellules de différentes nature (texte, code, texte formaté: markdown)\n",
    "* de diviser une cellule en deux (après avoir tapé deux lignes dans votre nouvelle cellule, divisez la en deux)\n",
    "* de supprimer des cellules (supprimez celle que vous venez d'ajouter)\n",
    "* de redémarrer l'interpreteur python pour ré-initialiser l'environnement.\n"
   ]
  },
  {
   "cell_type": "code",
   "execution_count": 3,
   "id": "reflected-sensitivity",
   "metadata": {},
   "outputs": [
    {
     "name": "stdout",
     "output_type": "stream",
     "text": [
      "Le resulat est : 12\n"
     ]
    }
   ],
   "source": [
    "\"\"\"\n",
    "Placez le fichier test.py dans le même répertoire que ce notebook.\n",
    "Vous pouvez importer ce module et utiliser la function \"operation\" comme suit:\n",
    "\"\"\"\n",
    "import test\n",
    "\n",
    "print(f\"Le resulat est : {test.operation(4,3)}\")"
   ]
  },
  {
   "cell_type": "markdown",
   "id": "2170d483",
   "metadata": {},
   "source": [
    "Modifiez maintenant le code de cette fonction pour avoir:\n",
    "```\n",
    "def operation(a, b):\n",
    "\treturn a - b\n",
    "```\n",
    "Ré-exécutez la cellule précédente. Qu'observez-vous?"
   ]
  },
  {
   "cell_type": "markdown",
   "id": "boxed-albert",
   "metadata": {},
   "source": [
    "Dans un **notebook** re-executer une cellule avec un import ne re-importe pas les modules.\n",
    "\n",
    "Deux options:\n",
    "* redémarrer le kernel (arrêter python et redémarrer)\n",
    "* utiliser le module **autoreload** comme ci-dessous\n",
    "\n",
    "puis re-executez la cellule du début."
   ]
  },
  {
   "cell_type": "code",
   "execution_count": 2,
   "id": "starting-story",
   "metadata": {},
   "outputs": [],
   "source": [
    "%load_ext autoreload\n",
    "%autoreload 2"
   ]
  },
  {
   "cell_type": "markdown",
   "id": "strong-weather",
   "metadata": {},
   "source": [
    "Il est possible d'excuter des commandes **shell** directement depuis vore notebook en utilisant le préfixe **!**.\n",
    "\n",
    "Vous pouvez donc combiner du code **shell** et python pour par exemple créer un répertoire, écrire dans un fichier,\n",
    "l'afficher puis le supprimer."
   ]
  },
  {
   "cell_type": "code",
   "execution_count": 5,
   "id": "ruled-assist",
   "metadata": {},
   "outputs": [
    {
     "name": "stdout",
     "output_type": "stream",
     "text": [
      "J'écris dans mon fichier texte\n"
     ]
    }
   ],
   "source": [
    "# Crée un répertoire toto et un repertoire figures\n",
    "!mkdir toto\n",
    "!mkdir figures\n",
    "\n",
    "# Crée un fichier texte et écrit dedans\n",
    "with open(\"toto/my_file.txt\", \"w\") as fh:\n",
    "    fh.write(\"J'écris dans mon fichier texte\")\n",
    "\n",
    "# Affiche le contenu du fichier texte ainsi créé\n",
    "with open(\"toto/my_file.txt\", \"r\") as fh:\n",
    "    text = fh.readlines()\n",
    "\n",
    "print(text[0])"
   ]
  },
  {
   "cell_type": "markdown",
   "id": "conservative-property",
   "metadata": {},
   "source": [
    "Maintenant supprimez le fichier créé et le répertoire toto en utilisant des commandes SHELL"
   ]
  },
  {
   "cell_type": "code",
   "execution_count": 6,
   "id": "numeric-married",
   "metadata": {},
   "outputs": [],
   "source": [
    "!rm toto/my_file.txt"
   ]
  },
  {
   "cell_type": "markdown",
   "id": "be3cc9f2",
   "metadata": {},
   "source": [
    "On peut donc installer des packages python directement depuis un notebook\n",
    "Il est cependant déconseillé d'utiliser directement \n",
    "```\n",
    "!conda install --yes numpy\n",
    "!pip install matplotlib\n",
    "```\n",
    "préférez la méthode suivante:\n"
   ]
  },
  {
   "cell_type": "code",
   "execution_count": 7,
   "id": "convenient-shade",
   "metadata": {},
   "outputs": [
    {
     "name": "stdout",
     "output_type": "stream",
     "text": [
      "Collecting package metadata (current_repodata.json): done\n",
      "Solving environment: done\n",
      "\n",
      "# All requested packages already installed.\n",
      "\n",
      "Retrieving notices: ...working... done\n",
      "Collecting package metadata (current_repodata.json): done\n",
      "Solving environment: done\n",
      "\n",
      "# All requested packages already installed.\n",
      "\n",
      "Retrieving notices: ...working... done\n"
     ]
    }
   ],
   "source": [
    "#\n",
    "import sys\n",
    "!conda install --yes --prefix {sys.prefix} numpy\n",
    "\n",
    "!conda install --yes --prefix {sys.prefix} matplotlib"
   ]
  },
  {
   "cell_type": "markdown",
   "id": "c92f9176",
   "metadata": {},
   "source": [
    "L'ajout du préfix et l'utilisation de ```python``` assurent que le module est installé pour la bonne version de python et dans le bon environnement."
   ]
  },
  {
   "cell_type": "code",
   "execution_count": 8,
   "id": "directed-chess",
   "metadata": {},
   "outputs": [
    {
     "name": "stdout",
     "output_type": "stream",
     "text": [
      "Numpy est installé dans:\n",
      "/home/romain/anaconda3/envs/mathsIA/lib/python3.10/site-packages/numpy/__init__.py\n",
      "La version installée est :1.23.1\n"
     ]
    }
   ],
   "source": [
    "# Comment voir où sont installé les modules?\n",
    "import numpy\n",
    "print(\"Numpy est installé dans:\")\n",
    "print(numpy.__file__)\n",
    "print(f\"La version installée est :{numpy.__version__}\")"
   ]
  },
  {
   "cell_type": "markdown",
   "id": "proof-springfield",
   "metadata": {},
   "source": [
    "<div style=\"border: solid 3px #000;\">\n",
    "    <h1 style=\"text-align: center; color:#000; font-family:Georgia; font-size:20px;\">Attention à l'ordre d'execution des cellules (regardez bien le numéro à gauche)</h1>\n",
    "</div>\n",
    "\n",
    "## Graphiques dans Notebook\n",
    "\n",
    "[Matplotlib](https://matplotlib.org/) est la bibliothèque graphique de base en python (par la suite vous pourrez utilser [Seaborn](https://seaborn.pydata.org/))\n",
    "\n",
    "Pour utiliser **matplotlib** directement dans le notebook, plusieurs options sont possible comme par exemple:"
   ]
  },
  {
   "cell_type": "code",
   "execution_count": 12,
   "id": "inclusive-price",
   "metadata": {},
   "outputs": [],
   "source": [
    "#%matplotlib inline\n",
    "%matplotlib notebook\n",
    "\n",
    "import matplotlib.pyplot as plt"
   ]
  },
  {
   "cell_type": "markdown",
   "id": "sized-asthma",
   "metadata": {},
   "source": [
    "Pour activer le mode interactif dans le notebook:\n",
    "```python\n",
    "%matplotlib notebook \n",
    "```\n",
    "\n",
    "\n",
    "Pour afficher uniquement des images statiques\n",
    "```python\n",
    "%matplotlib inline\n",
    "```\n",
    "\n",
    "Tracez maintenant une figure simple avec **matplotlib**, comparez les différents modes possibles"
   ]
  },
  {
   "cell_type": "code",
   "execution_count": 15,
   "id": "celtic-sunday",
   "metadata": {},
   "outputs": [
    {
     "data": {
      "application/javascript": [
       "/* Put everything inside the global mpl namespace */\n",
       "/* global mpl */\n",
       "window.mpl = {};\n",
       "\n",
       "mpl.get_websocket_type = function () {\n",
       "    if (typeof WebSocket !== 'undefined') {\n",
       "        return WebSocket;\n",
       "    } else if (typeof MozWebSocket !== 'undefined') {\n",
       "        return MozWebSocket;\n",
       "    } else {\n",
       "        alert(\n",
       "            'Your browser does not have WebSocket support. ' +\n",
       "                'Please try Chrome, Safari or Firefox ≥ 6. ' +\n",
       "                'Firefox 4 and 5 are also supported but you ' +\n",
       "                'have to enable WebSockets in about:config.'\n",
       "        );\n",
       "    }\n",
       "};\n",
       "\n",
       "mpl.figure = function (figure_id, websocket, ondownload, parent_element) {\n",
       "    this.id = figure_id;\n",
       "\n",
       "    this.ws = websocket;\n",
       "\n",
       "    this.supports_binary = this.ws.binaryType !== undefined;\n",
       "\n",
       "    if (!this.supports_binary) {\n",
       "        var warnings = document.getElementById('mpl-warnings');\n",
       "        if (warnings) {\n",
       "            warnings.style.display = 'block';\n",
       "            warnings.textContent =\n",
       "                'This browser does not support binary websocket messages. ' +\n",
       "                'Performance may be slow.';\n",
       "        }\n",
       "    }\n",
       "\n",
       "    this.imageObj = new Image();\n",
       "\n",
       "    this.context = undefined;\n",
       "    this.message = undefined;\n",
       "    this.canvas = undefined;\n",
       "    this.rubberband_canvas = undefined;\n",
       "    this.rubberband_context = undefined;\n",
       "    this.format_dropdown = undefined;\n",
       "\n",
       "    this.image_mode = 'full';\n",
       "\n",
       "    this.root = document.createElement('div');\n",
       "    this.root.setAttribute('style', 'display: inline-block');\n",
       "    this._root_extra_style(this.root);\n",
       "\n",
       "    parent_element.appendChild(this.root);\n",
       "\n",
       "    this._init_header(this);\n",
       "    this._init_canvas(this);\n",
       "    this._init_toolbar(this);\n",
       "\n",
       "    var fig = this;\n",
       "\n",
       "    this.waiting = false;\n",
       "\n",
       "    this.ws.onopen = function () {\n",
       "        fig.send_message('supports_binary', { value: fig.supports_binary });\n",
       "        fig.send_message('send_image_mode', {});\n",
       "        if (fig.ratio !== 1) {\n",
       "            fig.send_message('set_device_pixel_ratio', {\n",
       "                device_pixel_ratio: fig.ratio,\n",
       "            });\n",
       "        }\n",
       "        fig.send_message('refresh', {});\n",
       "    };\n",
       "\n",
       "    this.imageObj.onload = function () {\n",
       "        if (fig.image_mode === 'full') {\n",
       "            // Full images could contain transparency (where diff images\n",
       "            // almost always do), so we need to clear the canvas so that\n",
       "            // there is no ghosting.\n",
       "            fig.context.clearRect(0, 0, fig.canvas.width, fig.canvas.height);\n",
       "        }\n",
       "        fig.context.drawImage(fig.imageObj, 0, 0);\n",
       "    };\n",
       "\n",
       "    this.imageObj.onunload = function () {\n",
       "        fig.ws.close();\n",
       "    };\n",
       "\n",
       "    this.ws.onmessage = this._make_on_message_function(this);\n",
       "\n",
       "    this.ondownload = ondownload;\n",
       "};\n",
       "\n",
       "mpl.figure.prototype._init_header = function () {\n",
       "    var titlebar = document.createElement('div');\n",
       "    titlebar.classList =\n",
       "        'ui-dialog-titlebar ui-widget-header ui-corner-all ui-helper-clearfix';\n",
       "    var titletext = document.createElement('div');\n",
       "    titletext.classList = 'ui-dialog-title';\n",
       "    titletext.setAttribute(\n",
       "        'style',\n",
       "        'width: 100%; text-align: center; padding: 3px;'\n",
       "    );\n",
       "    titlebar.appendChild(titletext);\n",
       "    this.root.appendChild(titlebar);\n",
       "    this.header = titletext;\n",
       "};\n",
       "\n",
       "mpl.figure.prototype._canvas_extra_style = function (_canvas_div) {};\n",
       "\n",
       "mpl.figure.prototype._root_extra_style = function (_canvas_div) {};\n",
       "\n",
       "mpl.figure.prototype._init_canvas = function () {\n",
       "    var fig = this;\n",
       "\n",
       "    var canvas_div = (this.canvas_div = document.createElement('div'));\n",
       "    canvas_div.setAttribute(\n",
       "        'style',\n",
       "        'border: 1px solid #ddd;' +\n",
       "            'box-sizing: content-box;' +\n",
       "            'clear: both;' +\n",
       "            'min-height: 1px;' +\n",
       "            'min-width: 1px;' +\n",
       "            'outline: 0;' +\n",
       "            'overflow: hidden;' +\n",
       "            'position: relative;' +\n",
       "            'resize: both;'\n",
       "    );\n",
       "\n",
       "    function on_keyboard_event_closure(name) {\n",
       "        return function (event) {\n",
       "            return fig.key_event(event, name);\n",
       "        };\n",
       "    }\n",
       "\n",
       "    canvas_div.addEventListener(\n",
       "        'keydown',\n",
       "        on_keyboard_event_closure('key_press')\n",
       "    );\n",
       "    canvas_div.addEventListener(\n",
       "        'keyup',\n",
       "        on_keyboard_event_closure('key_release')\n",
       "    );\n",
       "\n",
       "    this._canvas_extra_style(canvas_div);\n",
       "    this.root.appendChild(canvas_div);\n",
       "\n",
       "    var canvas = (this.canvas = document.createElement('canvas'));\n",
       "    canvas.classList.add('mpl-canvas');\n",
       "    canvas.setAttribute('style', 'box-sizing: content-box;');\n",
       "\n",
       "    this.context = canvas.getContext('2d');\n",
       "\n",
       "    var backingStore =\n",
       "        this.context.backingStorePixelRatio ||\n",
       "        this.context.webkitBackingStorePixelRatio ||\n",
       "        this.context.mozBackingStorePixelRatio ||\n",
       "        this.context.msBackingStorePixelRatio ||\n",
       "        this.context.oBackingStorePixelRatio ||\n",
       "        this.context.backingStorePixelRatio ||\n",
       "        1;\n",
       "\n",
       "    this.ratio = (window.devicePixelRatio || 1) / backingStore;\n",
       "\n",
       "    var rubberband_canvas = (this.rubberband_canvas = document.createElement(\n",
       "        'canvas'\n",
       "    ));\n",
       "    rubberband_canvas.setAttribute(\n",
       "        'style',\n",
       "        'box-sizing: content-box; position: absolute; left: 0; top: 0; z-index: 1;'\n",
       "    );\n",
       "\n",
       "    // Apply a ponyfill if ResizeObserver is not implemented by browser.\n",
       "    if (this.ResizeObserver === undefined) {\n",
       "        if (window.ResizeObserver !== undefined) {\n",
       "            this.ResizeObserver = window.ResizeObserver;\n",
       "        } else {\n",
       "            var obs = _JSXTOOLS_RESIZE_OBSERVER({});\n",
       "            this.ResizeObserver = obs.ResizeObserver;\n",
       "        }\n",
       "    }\n",
       "\n",
       "    this.resizeObserverInstance = new this.ResizeObserver(function (entries) {\n",
       "        var nentries = entries.length;\n",
       "        for (var i = 0; i < nentries; i++) {\n",
       "            var entry = entries[i];\n",
       "            var width, height;\n",
       "            if (entry.contentBoxSize) {\n",
       "                if (entry.contentBoxSize instanceof Array) {\n",
       "                    // Chrome 84 implements new version of spec.\n",
       "                    width = entry.contentBoxSize[0].inlineSize;\n",
       "                    height = entry.contentBoxSize[0].blockSize;\n",
       "                } else {\n",
       "                    // Firefox implements old version of spec.\n",
       "                    width = entry.contentBoxSize.inlineSize;\n",
       "                    height = entry.contentBoxSize.blockSize;\n",
       "                }\n",
       "            } else {\n",
       "                // Chrome <84 implements even older version of spec.\n",
       "                width = entry.contentRect.width;\n",
       "                height = entry.contentRect.height;\n",
       "            }\n",
       "\n",
       "            // Keep the size of the canvas and rubber band canvas in sync with\n",
       "            // the canvas container.\n",
       "            if (entry.devicePixelContentBoxSize) {\n",
       "                // Chrome 84 implements new version of spec.\n",
       "                canvas.setAttribute(\n",
       "                    'width',\n",
       "                    entry.devicePixelContentBoxSize[0].inlineSize\n",
       "                );\n",
       "                canvas.setAttribute(\n",
       "                    'height',\n",
       "                    entry.devicePixelContentBoxSize[0].blockSize\n",
       "                );\n",
       "            } else {\n",
       "                canvas.setAttribute('width', width * fig.ratio);\n",
       "                canvas.setAttribute('height', height * fig.ratio);\n",
       "            }\n",
       "            canvas.setAttribute(\n",
       "                'style',\n",
       "                'width: ' + width + 'px; height: ' + height + 'px;'\n",
       "            );\n",
       "\n",
       "            rubberband_canvas.setAttribute('width', width);\n",
       "            rubberband_canvas.setAttribute('height', height);\n",
       "\n",
       "            // And update the size in Python. We ignore the initial 0/0 size\n",
       "            // that occurs as the element is placed into the DOM, which should\n",
       "            // otherwise not happen due to the minimum size styling.\n",
       "            if (fig.ws.readyState == 1 && width != 0 && height != 0) {\n",
       "                fig.request_resize(width, height);\n",
       "            }\n",
       "        }\n",
       "    });\n",
       "    this.resizeObserverInstance.observe(canvas_div);\n",
       "\n",
       "    function on_mouse_event_closure(name) {\n",
       "        return function (event) {\n",
       "            return fig.mouse_event(event, name);\n",
       "        };\n",
       "    }\n",
       "\n",
       "    rubberband_canvas.addEventListener(\n",
       "        'mousedown',\n",
       "        on_mouse_event_closure('button_press')\n",
       "    );\n",
       "    rubberband_canvas.addEventListener(\n",
       "        'mouseup',\n",
       "        on_mouse_event_closure('button_release')\n",
       "    );\n",
       "    rubberband_canvas.addEventListener(\n",
       "        'dblclick',\n",
       "        on_mouse_event_closure('dblclick')\n",
       "    );\n",
       "    // Throttle sequential mouse events to 1 every 20ms.\n",
       "    rubberband_canvas.addEventListener(\n",
       "        'mousemove',\n",
       "        on_mouse_event_closure('motion_notify')\n",
       "    );\n",
       "\n",
       "    rubberband_canvas.addEventListener(\n",
       "        'mouseenter',\n",
       "        on_mouse_event_closure('figure_enter')\n",
       "    );\n",
       "    rubberband_canvas.addEventListener(\n",
       "        'mouseleave',\n",
       "        on_mouse_event_closure('figure_leave')\n",
       "    );\n",
       "\n",
       "    canvas_div.addEventListener('wheel', function (event) {\n",
       "        if (event.deltaY < 0) {\n",
       "            event.step = 1;\n",
       "        } else {\n",
       "            event.step = -1;\n",
       "        }\n",
       "        on_mouse_event_closure('scroll')(event);\n",
       "    });\n",
       "\n",
       "    canvas_div.appendChild(canvas);\n",
       "    canvas_div.appendChild(rubberband_canvas);\n",
       "\n",
       "    this.rubberband_context = rubberband_canvas.getContext('2d');\n",
       "    this.rubberband_context.strokeStyle = '#000000';\n",
       "\n",
       "    this._resize_canvas = function (width, height, forward) {\n",
       "        if (forward) {\n",
       "            canvas_div.style.width = width + 'px';\n",
       "            canvas_div.style.height = height + 'px';\n",
       "        }\n",
       "    };\n",
       "\n",
       "    // Disable right mouse context menu.\n",
       "    this.rubberband_canvas.addEventListener('contextmenu', function (_e) {\n",
       "        event.preventDefault();\n",
       "        return false;\n",
       "    });\n",
       "\n",
       "    function set_focus() {\n",
       "        canvas.focus();\n",
       "        canvas_div.focus();\n",
       "    }\n",
       "\n",
       "    window.setTimeout(set_focus, 100);\n",
       "};\n",
       "\n",
       "mpl.figure.prototype._init_toolbar = function () {\n",
       "    var fig = this;\n",
       "\n",
       "    var toolbar = document.createElement('div');\n",
       "    toolbar.classList = 'mpl-toolbar';\n",
       "    this.root.appendChild(toolbar);\n",
       "\n",
       "    function on_click_closure(name) {\n",
       "        return function (_event) {\n",
       "            return fig.toolbar_button_onclick(name);\n",
       "        };\n",
       "    }\n",
       "\n",
       "    function on_mouseover_closure(tooltip) {\n",
       "        return function (event) {\n",
       "            if (!event.currentTarget.disabled) {\n",
       "                return fig.toolbar_button_onmouseover(tooltip);\n",
       "            }\n",
       "        };\n",
       "    }\n",
       "\n",
       "    fig.buttons = {};\n",
       "    var buttonGroup = document.createElement('div');\n",
       "    buttonGroup.classList = 'mpl-button-group';\n",
       "    for (var toolbar_ind in mpl.toolbar_items) {\n",
       "        var name = mpl.toolbar_items[toolbar_ind][0];\n",
       "        var tooltip = mpl.toolbar_items[toolbar_ind][1];\n",
       "        var image = mpl.toolbar_items[toolbar_ind][2];\n",
       "        var method_name = mpl.toolbar_items[toolbar_ind][3];\n",
       "\n",
       "        if (!name) {\n",
       "            /* Instead of a spacer, we start a new button group. */\n",
       "            if (buttonGroup.hasChildNodes()) {\n",
       "                toolbar.appendChild(buttonGroup);\n",
       "            }\n",
       "            buttonGroup = document.createElement('div');\n",
       "            buttonGroup.classList = 'mpl-button-group';\n",
       "            continue;\n",
       "        }\n",
       "\n",
       "        var button = (fig.buttons[name] = document.createElement('button'));\n",
       "        button.classList = 'mpl-widget';\n",
       "        button.setAttribute('role', 'button');\n",
       "        button.setAttribute('aria-disabled', 'false');\n",
       "        button.addEventListener('click', on_click_closure(method_name));\n",
       "        button.addEventListener('mouseover', on_mouseover_closure(tooltip));\n",
       "\n",
       "        var icon_img = document.createElement('img');\n",
       "        icon_img.src = '_images/' + image + '.png';\n",
       "        icon_img.srcset = '_images/' + image + '_large.png 2x';\n",
       "        icon_img.alt = tooltip;\n",
       "        button.appendChild(icon_img);\n",
       "\n",
       "        buttonGroup.appendChild(button);\n",
       "    }\n",
       "\n",
       "    if (buttonGroup.hasChildNodes()) {\n",
       "        toolbar.appendChild(buttonGroup);\n",
       "    }\n",
       "\n",
       "    var fmt_picker = document.createElement('select');\n",
       "    fmt_picker.classList = 'mpl-widget';\n",
       "    toolbar.appendChild(fmt_picker);\n",
       "    this.format_dropdown = fmt_picker;\n",
       "\n",
       "    for (var ind in mpl.extensions) {\n",
       "        var fmt = mpl.extensions[ind];\n",
       "        var option = document.createElement('option');\n",
       "        option.selected = fmt === mpl.default_extension;\n",
       "        option.innerHTML = fmt;\n",
       "        fmt_picker.appendChild(option);\n",
       "    }\n",
       "\n",
       "    var status_bar = document.createElement('span');\n",
       "    status_bar.classList = 'mpl-message';\n",
       "    toolbar.appendChild(status_bar);\n",
       "    this.message = status_bar;\n",
       "};\n",
       "\n",
       "mpl.figure.prototype.request_resize = function (x_pixels, y_pixels) {\n",
       "    // Request matplotlib to resize the figure. Matplotlib will then trigger a resize in the client,\n",
       "    // which will in turn request a refresh of the image.\n",
       "    this.send_message('resize', { width: x_pixels, height: y_pixels });\n",
       "};\n",
       "\n",
       "mpl.figure.prototype.send_message = function (type, properties) {\n",
       "    properties['type'] = type;\n",
       "    properties['figure_id'] = this.id;\n",
       "    this.ws.send(JSON.stringify(properties));\n",
       "};\n",
       "\n",
       "mpl.figure.prototype.send_draw_message = function () {\n",
       "    if (!this.waiting) {\n",
       "        this.waiting = true;\n",
       "        this.ws.send(JSON.stringify({ type: 'draw', figure_id: this.id }));\n",
       "    }\n",
       "};\n",
       "\n",
       "mpl.figure.prototype.handle_save = function (fig, _msg) {\n",
       "    var format_dropdown = fig.format_dropdown;\n",
       "    var format = format_dropdown.options[format_dropdown.selectedIndex].value;\n",
       "    fig.ondownload(fig, format);\n",
       "};\n",
       "\n",
       "mpl.figure.prototype.handle_resize = function (fig, msg) {\n",
       "    var size = msg['size'];\n",
       "    if (size[0] !== fig.canvas.width || size[1] !== fig.canvas.height) {\n",
       "        fig._resize_canvas(size[0], size[1], msg['forward']);\n",
       "        fig.send_message('refresh', {});\n",
       "    }\n",
       "};\n",
       "\n",
       "mpl.figure.prototype.handle_rubberband = function (fig, msg) {\n",
       "    var x0 = msg['x0'] / fig.ratio;\n",
       "    var y0 = (fig.canvas.height - msg['y0']) / fig.ratio;\n",
       "    var x1 = msg['x1'] / fig.ratio;\n",
       "    var y1 = (fig.canvas.height - msg['y1']) / fig.ratio;\n",
       "    x0 = Math.floor(x0) + 0.5;\n",
       "    y0 = Math.floor(y0) + 0.5;\n",
       "    x1 = Math.floor(x1) + 0.5;\n",
       "    y1 = Math.floor(y1) + 0.5;\n",
       "    var min_x = Math.min(x0, x1);\n",
       "    var min_y = Math.min(y0, y1);\n",
       "    var width = Math.abs(x1 - x0);\n",
       "    var height = Math.abs(y1 - y0);\n",
       "\n",
       "    fig.rubberband_context.clearRect(\n",
       "        0,\n",
       "        0,\n",
       "        fig.canvas.width / fig.ratio,\n",
       "        fig.canvas.height / fig.ratio\n",
       "    );\n",
       "\n",
       "    fig.rubberband_context.strokeRect(min_x, min_y, width, height);\n",
       "};\n",
       "\n",
       "mpl.figure.prototype.handle_figure_label = function (fig, msg) {\n",
       "    // Updates the figure title.\n",
       "    fig.header.textContent = msg['label'];\n",
       "};\n",
       "\n",
       "mpl.figure.prototype.handle_cursor = function (fig, msg) {\n",
       "    fig.rubberband_canvas.style.cursor = msg['cursor'];\n",
       "};\n",
       "\n",
       "mpl.figure.prototype.handle_message = function (fig, msg) {\n",
       "    fig.message.textContent = msg['message'];\n",
       "};\n",
       "\n",
       "mpl.figure.prototype.handle_draw = function (fig, _msg) {\n",
       "    // Request the server to send over a new figure.\n",
       "    fig.send_draw_message();\n",
       "};\n",
       "\n",
       "mpl.figure.prototype.handle_image_mode = function (fig, msg) {\n",
       "    fig.image_mode = msg['mode'];\n",
       "};\n",
       "\n",
       "mpl.figure.prototype.handle_history_buttons = function (fig, msg) {\n",
       "    for (var key in msg) {\n",
       "        if (!(key in fig.buttons)) {\n",
       "            continue;\n",
       "        }\n",
       "        fig.buttons[key].disabled = !msg[key];\n",
       "        fig.buttons[key].setAttribute('aria-disabled', !msg[key]);\n",
       "    }\n",
       "};\n",
       "\n",
       "mpl.figure.prototype.handle_navigate_mode = function (fig, msg) {\n",
       "    if (msg['mode'] === 'PAN') {\n",
       "        fig.buttons['Pan'].classList.add('active');\n",
       "        fig.buttons['Zoom'].classList.remove('active');\n",
       "    } else if (msg['mode'] === 'ZOOM') {\n",
       "        fig.buttons['Pan'].classList.remove('active');\n",
       "        fig.buttons['Zoom'].classList.add('active');\n",
       "    } else {\n",
       "        fig.buttons['Pan'].classList.remove('active');\n",
       "        fig.buttons['Zoom'].classList.remove('active');\n",
       "    }\n",
       "};\n",
       "\n",
       "mpl.figure.prototype.updated_canvas_event = function () {\n",
       "    // Called whenever the canvas gets updated.\n",
       "    this.send_message('ack', {});\n",
       "};\n",
       "\n",
       "// A function to construct a web socket function for onmessage handling.\n",
       "// Called in the figure constructor.\n",
       "mpl.figure.prototype._make_on_message_function = function (fig) {\n",
       "    return function socket_on_message(evt) {\n",
       "        if (evt.data instanceof Blob) {\n",
       "            var img = evt.data;\n",
       "            if (img.type !== 'image/png') {\n",
       "                /* FIXME: We get \"Resource interpreted as Image but\n",
       "                 * transferred with MIME type text/plain:\" errors on\n",
       "                 * Chrome.  But how to set the MIME type?  It doesn't seem\n",
       "                 * to be part of the websocket stream */\n",
       "                img.type = 'image/png';\n",
       "            }\n",
       "\n",
       "            /* Free the memory for the previous frames */\n",
       "            if (fig.imageObj.src) {\n",
       "                (window.URL || window.webkitURL).revokeObjectURL(\n",
       "                    fig.imageObj.src\n",
       "                );\n",
       "            }\n",
       "\n",
       "            fig.imageObj.src = (window.URL || window.webkitURL).createObjectURL(\n",
       "                img\n",
       "            );\n",
       "            fig.updated_canvas_event();\n",
       "            fig.waiting = false;\n",
       "            return;\n",
       "        } else if (\n",
       "            typeof evt.data === 'string' &&\n",
       "            evt.data.slice(0, 21) === 'data:image/png;base64'\n",
       "        ) {\n",
       "            fig.imageObj.src = evt.data;\n",
       "            fig.updated_canvas_event();\n",
       "            fig.waiting = false;\n",
       "            return;\n",
       "        }\n",
       "\n",
       "        var msg = JSON.parse(evt.data);\n",
       "        var msg_type = msg['type'];\n",
       "\n",
       "        // Call the  \"handle_{type}\" callback, which takes\n",
       "        // the figure and JSON message as its only arguments.\n",
       "        try {\n",
       "            var callback = fig['handle_' + msg_type];\n",
       "        } catch (e) {\n",
       "            console.log(\n",
       "                \"No handler for the '\" + msg_type + \"' message type: \",\n",
       "                msg\n",
       "            );\n",
       "            return;\n",
       "        }\n",
       "\n",
       "        if (callback) {\n",
       "            try {\n",
       "                // console.log(\"Handling '\" + msg_type + \"' message: \", msg);\n",
       "                callback(fig, msg);\n",
       "            } catch (e) {\n",
       "                console.log(\n",
       "                    \"Exception inside the 'handler_\" + msg_type + \"' callback:\",\n",
       "                    e,\n",
       "                    e.stack,\n",
       "                    msg\n",
       "                );\n",
       "            }\n",
       "        }\n",
       "    };\n",
       "};\n",
       "\n",
       "// from https://stackoverflow.com/questions/1114465/getting-mouse-location-in-canvas\n",
       "mpl.findpos = function (e) {\n",
       "    //this section is from http://www.quirksmode.org/js/events_properties.html\n",
       "    var targ;\n",
       "    if (!e) {\n",
       "        e = window.event;\n",
       "    }\n",
       "    if (e.target) {\n",
       "        targ = e.target;\n",
       "    } else if (e.srcElement) {\n",
       "        targ = e.srcElement;\n",
       "    }\n",
       "    if (targ.nodeType === 3) {\n",
       "        // defeat Safari bug\n",
       "        targ = targ.parentNode;\n",
       "    }\n",
       "\n",
       "    // pageX,Y are the mouse positions relative to the document\n",
       "    var boundingRect = targ.getBoundingClientRect();\n",
       "    var x = e.pageX - (boundingRect.left + document.body.scrollLeft);\n",
       "    var y = e.pageY - (boundingRect.top + document.body.scrollTop);\n",
       "\n",
       "    return { x: x, y: y };\n",
       "};\n",
       "\n",
       "/*\n",
       " * return a copy of an object with only non-object keys\n",
       " * we need this to avoid circular references\n",
       " * https://stackoverflow.com/a/24161582/3208463\n",
       " */\n",
       "function simpleKeys(original) {\n",
       "    return Object.keys(original).reduce(function (obj, key) {\n",
       "        if (typeof original[key] !== 'object') {\n",
       "            obj[key] = original[key];\n",
       "        }\n",
       "        return obj;\n",
       "    }, {});\n",
       "}\n",
       "\n",
       "mpl.figure.prototype.mouse_event = function (event, name) {\n",
       "    var canvas_pos = mpl.findpos(event);\n",
       "\n",
       "    if (name === 'button_press') {\n",
       "        this.canvas.focus();\n",
       "        this.canvas_div.focus();\n",
       "    }\n",
       "\n",
       "    var x = canvas_pos.x * this.ratio;\n",
       "    var y = canvas_pos.y * this.ratio;\n",
       "\n",
       "    this.send_message(name, {\n",
       "        x: x,\n",
       "        y: y,\n",
       "        button: event.button,\n",
       "        step: event.step,\n",
       "        guiEvent: simpleKeys(event),\n",
       "    });\n",
       "\n",
       "    /* This prevents the web browser from automatically changing to\n",
       "     * the text insertion cursor when the button is pressed.  We want\n",
       "     * to control all of the cursor setting manually through the\n",
       "     * 'cursor' event from matplotlib */\n",
       "    event.preventDefault();\n",
       "    return false;\n",
       "};\n",
       "\n",
       "mpl.figure.prototype._key_event_extra = function (_event, _name) {\n",
       "    // Handle any extra behaviour associated with a key event\n",
       "};\n",
       "\n",
       "mpl.figure.prototype.key_event = function (event, name) {\n",
       "    // Prevent repeat events\n",
       "    if (name === 'key_press') {\n",
       "        if (event.key === this._key) {\n",
       "            return;\n",
       "        } else {\n",
       "            this._key = event.key;\n",
       "        }\n",
       "    }\n",
       "    if (name === 'key_release') {\n",
       "        this._key = null;\n",
       "    }\n",
       "\n",
       "    var value = '';\n",
       "    if (event.ctrlKey && event.key !== 'Control') {\n",
       "        value += 'ctrl+';\n",
       "    }\n",
       "    else if (event.altKey && event.key !== 'Alt') {\n",
       "        value += 'alt+';\n",
       "    }\n",
       "    else if (event.shiftKey && event.key !== 'Shift') {\n",
       "        value += 'shift+';\n",
       "    }\n",
       "\n",
       "    value += 'k' + event.key;\n",
       "\n",
       "    this._key_event_extra(event, name);\n",
       "\n",
       "    this.send_message(name, { key: value, guiEvent: simpleKeys(event) });\n",
       "    return false;\n",
       "};\n",
       "\n",
       "mpl.figure.prototype.toolbar_button_onclick = function (name) {\n",
       "    if (name === 'download') {\n",
       "        this.handle_save(this, null);\n",
       "    } else {\n",
       "        this.send_message('toolbar_button', { name: name });\n",
       "    }\n",
       "};\n",
       "\n",
       "mpl.figure.prototype.toolbar_button_onmouseover = function (tooltip) {\n",
       "    this.message.textContent = tooltip;\n",
       "};\n",
       "\n",
       "///////////////// REMAINING CONTENT GENERATED BY embed_js.py /////////////////\n",
       "// prettier-ignore\n",
       "var _JSXTOOLS_RESIZE_OBSERVER=function(A){var t,i=new WeakMap,n=new WeakMap,a=new WeakMap,r=new WeakMap,o=new Set;function s(e){if(!(this instanceof s))throw new TypeError(\"Constructor requires 'new' operator\");i.set(this,e)}function h(){throw new TypeError(\"Function is not a constructor\")}function c(e,t,i,n){e=0 in arguments?Number(arguments[0]):0,t=1 in arguments?Number(arguments[1]):0,i=2 in arguments?Number(arguments[2]):0,n=3 in arguments?Number(arguments[3]):0,this.right=(this.x=this.left=e)+(this.width=i),this.bottom=(this.y=this.top=t)+(this.height=n),Object.freeze(this)}function d(){t=requestAnimationFrame(d);var s=new WeakMap,p=new Set;o.forEach((function(t){r.get(t).forEach((function(i){var r=t instanceof window.SVGElement,o=a.get(t),d=r?0:parseFloat(o.paddingTop),f=r?0:parseFloat(o.paddingRight),l=r?0:parseFloat(o.paddingBottom),u=r?0:parseFloat(o.paddingLeft),g=r?0:parseFloat(o.borderTopWidth),m=r?0:parseFloat(o.borderRightWidth),w=r?0:parseFloat(o.borderBottomWidth),b=u+f,F=d+l,v=(r?0:parseFloat(o.borderLeftWidth))+m,W=g+w,y=r?0:t.offsetHeight-W-t.clientHeight,E=r?0:t.offsetWidth-v-t.clientWidth,R=b+v,z=F+W,M=r?t.width:parseFloat(o.width)-R-E,O=r?t.height:parseFloat(o.height)-z-y;if(n.has(t)){var k=n.get(t);if(k[0]===M&&k[1]===O)return}n.set(t,[M,O]);var S=Object.create(h.prototype);S.target=t,S.contentRect=new c(u,d,M,O),s.has(i)||(s.set(i,[]),p.add(i)),s.get(i).push(S)}))})),p.forEach((function(e){i.get(e).call(e,s.get(e),e)}))}return s.prototype.observe=function(i){if(i instanceof window.Element){r.has(i)||(r.set(i,new Set),o.add(i),a.set(i,window.getComputedStyle(i)));var n=r.get(i);n.has(this)||n.add(this),cancelAnimationFrame(t),t=requestAnimationFrame(d)}},s.prototype.unobserve=function(i){if(i instanceof window.Element&&r.has(i)){var n=r.get(i);n.has(this)&&(n.delete(this),n.size||(r.delete(i),o.delete(i))),n.size||r.delete(i),o.size||cancelAnimationFrame(t)}},A.DOMRectReadOnly=c,A.ResizeObserver=s,A.ResizeObserverEntry=h,A}; // eslint-disable-line\n",
       "mpl.toolbar_items = [[\"Home\", \"Reset original view\", \"fa fa-home icon-home\", \"home\"], [\"Back\", \"Back to previous view\", \"fa fa-arrow-left icon-arrow-left\", \"back\"], [\"Forward\", \"Forward to next view\", \"fa fa-arrow-right icon-arrow-right\", \"forward\"], [\"\", \"\", \"\", \"\"], [\"Pan\", \"Left button pans, Right button zooms\\nx/y fixes axis, CTRL fixes aspect\", \"fa fa-arrows icon-move\", \"pan\"], [\"Zoom\", \"Zoom to rectangle\\nx/y fixes axis\", \"fa fa-square-o icon-check-empty\", \"zoom\"], [\"\", \"\", \"\", \"\"], [\"Download\", \"Download plot\", \"fa fa-floppy-o icon-save\", \"download\"]];\n",
       "\n",
       "mpl.extensions = [\"eps\", \"jpeg\", \"pgf\", \"pdf\", \"png\", \"ps\", \"raw\", \"svg\", \"tif\"];\n",
       "\n",
       "mpl.default_extension = \"png\";/* global mpl */\n",
       "\n",
       "var comm_websocket_adapter = function (comm) {\n",
       "    // Create a \"websocket\"-like object which calls the given IPython comm\n",
       "    // object with the appropriate methods. Currently this is a non binary\n",
       "    // socket, so there is still some room for performance tuning.\n",
       "    var ws = {};\n",
       "\n",
       "    ws.binaryType = comm.kernel.ws.binaryType;\n",
       "    ws.readyState = comm.kernel.ws.readyState;\n",
       "    function updateReadyState(_event) {\n",
       "        if (comm.kernel.ws) {\n",
       "            ws.readyState = comm.kernel.ws.readyState;\n",
       "        } else {\n",
       "            ws.readyState = 3; // Closed state.\n",
       "        }\n",
       "    }\n",
       "    comm.kernel.ws.addEventListener('open', updateReadyState);\n",
       "    comm.kernel.ws.addEventListener('close', updateReadyState);\n",
       "    comm.kernel.ws.addEventListener('error', updateReadyState);\n",
       "\n",
       "    ws.close = function () {\n",
       "        comm.close();\n",
       "    };\n",
       "    ws.send = function (m) {\n",
       "        //console.log('sending', m);\n",
       "        comm.send(m);\n",
       "    };\n",
       "    // Register the callback with on_msg.\n",
       "    comm.on_msg(function (msg) {\n",
       "        //console.log('receiving', msg['content']['data'], msg);\n",
       "        var data = msg['content']['data'];\n",
       "        if (data['blob'] !== undefined) {\n",
       "            data = {\n",
       "                data: new Blob(msg['buffers'], { type: data['blob'] }),\n",
       "            };\n",
       "        }\n",
       "        // Pass the mpl event to the overridden (by mpl) onmessage function.\n",
       "        ws.onmessage(data);\n",
       "    });\n",
       "    return ws;\n",
       "};\n",
       "\n",
       "mpl.mpl_figure_comm = function (comm, msg) {\n",
       "    // This is the function which gets called when the mpl process\n",
       "    // starts-up an IPython Comm through the \"matplotlib\" channel.\n",
       "\n",
       "    var id = msg.content.data.id;\n",
       "    // Get hold of the div created by the display call when the Comm\n",
       "    // socket was opened in Python.\n",
       "    var element = document.getElementById(id);\n",
       "    var ws_proxy = comm_websocket_adapter(comm);\n",
       "\n",
       "    function ondownload(figure, _format) {\n",
       "        window.open(figure.canvas.toDataURL());\n",
       "    }\n",
       "\n",
       "    var fig = new mpl.figure(id, ws_proxy, ondownload, element);\n",
       "\n",
       "    // Call onopen now - mpl needs it, as it is assuming we've passed it a real\n",
       "    // web socket which is closed, not our websocket->open comm proxy.\n",
       "    ws_proxy.onopen();\n",
       "\n",
       "    fig.parent_element = element;\n",
       "    fig.cell_info = mpl.find_output_cell(\"<div id='\" + id + \"'></div>\");\n",
       "    if (!fig.cell_info) {\n",
       "        console.error('Failed to find cell for figure', id, fig);\n",
       "        return;\n",
       "    }\n",
       "    fig.cell_info[0].output_area.element.on(\n",
       "        'cleared',\n",
       "        { fig: fig },\n",
       "        fig._remove_fig_handler\n",
       "    );\n",
       "};\n",
       "\n",
       "mpl.figure.prototype.handle_close = function (fig, msg) {\n",
       "    var width = fig.canvas.width / fig.ratio;\n",
       "    fig.cell_info[0].output_area.element.off(\n",
       "        'cleared',\n",
       "        fig._remove_fig_handler\n",
       "    );\n",
       "    fig.resizeObserverInstance.unobserve(fig.canvas_div);\n",
       "\n",
       "    // Update the output cell to use the data from the current canvas.\n",
       "    fig.push_to_output();\n",
       "    var dataURL = fig.canvas.toDataURL();\n",
       "    // Re-enable the keyboard manager in IPython - without this line, in FF,\n",
       "    // the notebook keyboard shortcuts fail.\n",
       "    IPython.keyboard_manager.enable();\n",
       "    fig.parent_element.innerHTML =\n",
       "        '<img src=\"' + dataURL + '\" width=\"' + width + '\">';\n",
       "    fig.close_ws(fig, msg);\n",
       "};\n",
       "\n",
       "mpl.figure.prototype.close_ws = function (fig, msg) {\n",
       "    fig.send_message('closing', msg);\n",
       "    // fig.ws.close()\n",
       "};\n",
       "\n",
       "mpl.figure.prototype.push_to_output = function (_remove_interactive) {\n",
       "    // Turn the data on the canvas into data in the output cell.\n",
       "    var width = this.canvas.width / this.ratio;\n",
       "    var dataURL = this.canvas.toDataURL();\n",
       "    this.cell_info[1]['text/html'] =\n",
       "        '<img src=\"' + dataURL + '\" width=\"' + width + '\">';\n",
       "};\n",
       "\n",
       "mpl.figure.prototype.updated_canvas_event = function () {\n",
       "    // Tell IPython that the notebook contents must change.\n",
       "    IPython.notebook.set_dirty(true);\n",
       "    this.send_message('ack', {});\n",
       "    var fig = this;\n",
       "    // Wait a second, then push the new image to the DOM so\n",
       "    // that it is saved nicely (might be nice to debounce this).\n",
       "    setTimeout(function () {\n",
       "        fig.push_to_output();\n",
       "    }, 1000);\n",
       "};\n",
       "\n",
       "mpl.figure.prototype._init_toolbar = function () {\n",
       "    var fig = this;\n",
       "\n",
       "    var toolbar = document.createElement('div');\n",
       "    toolbar.classList = 'btn-toolbar';\n",
       "    this.root.appendChild(toolbar);\n",
       "\n",
       "    function on_click_closure(name) {\n",
       "        return function (_event) {\n",
       "            return fig.toolbar_button_onclick(name);\n",
       "        };\n",
       "    }\n",
       "\n",
       "    function on_mouseover_closure(tooltip) {\n",
       "        return function (event) {\n",
       "            if (!event.currentTarget.disabled) {\n",
       "                return fig.toolbar_button_onmouseover(tooltip);\n",
       "            }\n",
       "        };\n",
       "    }\n",
       "\n",
       "    fig.buttons = {};\n",
       "    var buttonGroup = document.createElement('div');\n",
       "    buttonGroup.classList = 'btn-group';\n",
       "    var button;\n",
       "    for (var toolbar_ind in mpl.toolbar_items) {\n",
       "        var name = mpl.toolbar_items[toolbar_ind][0];\n",
       "        var tooltip = mpl.toolbar_items[toolbar_ind][1];\n",
       "        var image = mpl.toolbar_items[toolbar_ind][2];\n",
       "        var method_name = mpl.toolbar_items[toolbar_ind][3];\n",
       "\n",
       "        if (!name) {\n",
       "            /* Instead of a spacer, we start a new button group. */\n",
       "            if (buttonGroup.hasChildNodes()) {\n",
       "                toolbar.appendChild(buttonGroup);\n",
       "            }\n",
       "            buttonGroup = document.createElement('div');\n",
       "            buttonGroup.classList = 'btn-group';\n",
       "            continue;\n",
       "        }\n",
       "\n",
       "        button = fig.buttons[name] = document.createElement('button');\n",
       "        button.classList = 'btn btn-default';\n",
       "        button.href = '#';\n",
       "        button.title = name;\n",
       "        button.innerHTML = '<i class=\"fa ' + image + ' fa-lg\"></i>';\n",
       "        button.addEventListener('click', on_click_closure(method_name));\n",
       "        button.addEventListener('mouseover', on_mouseover_closure(tooltip));\n",
       "        buttonGroup.appendChild(button);\n",
       "    }\n",
       "\n",
       "    if (buttonGroup.hasChildNodes()) {\n",
       "        toolbar.appendChild(buttonGroup);\n",
       "    }\n",
       "\n",
       "    // Add the status bar.\n",
       "    var status_bar = document.createElement('span');\n",
       "    status_bar.classList = 'mpl-message pull-right';\n",
       "    toolbar.appendChild(status_bar);\n",
       "    this.message = status_bar;\n",
       "\n",
       "    // Add the close button to the window.\n",
       "    var buttongrp = document.createElement('div');\n",
       "    buttongrp.classList = 'btn-group inline pull-right';\n",
       "    button = document.createElement('button');\n",
       "    button.classList = 'btn btn-mini btn-primary';\n",
       "    button.href = '#';\n",
       "    button.title = 'Stop Interaction';\n",
       "    button.innerHTML = '<i class=\"fa fa-power-off icon-remove icon-large\"></i>';\n",
       "    button.addEventListener('click', function (_evt) {\n",
       "        fig.handle_close(fig, {});\n",
       "    });\n",
       "    button.addEventListener(\n",
       "        'mouseover',\n",
       "        on_mouseover_closure('Stop Interaction')\n",
       "    );\n",
       "    buttongrp.appendChild(button);\n",
       "    var titlebar = this.root.querySelector('.ui-dialog-titlebar');\n",
       "    titlebar.insertBefore(buttongrp, titlebar.firstChild);\n",
       "};\n",
       "\n",
       "mpl.figure.prototype._remove_fig_handler = function (event) {\n",
       "    var fig = event.data.fig;\n",
       "    if (event.target !== this) {\n",
       "        // Ignore bubbled events from children.\n",
       "        return;\n",
       "    }\n",
       "    fig.close_ws(fig, {});\n",
       "};\n",
       "\n",
       "mpl.figure.prototype._root_extra_style = function (el) {\n",
       "    el.style.boxSizing = 'content-box'; // override notebook setting of border-box.\n",
       "};\n",
       "\n",
       "mpl.figure.prototype._canvas_extra_style = function (el) {\n",
       "    // this is important to make the div 'focusable\n",
       "    el.setAttribute('tabindex', 0);\n",
       "    // reach out to IPython and tell the keyboard manager to turn it's self\n",
       "    // off when our div gets focus\n",
       "\n",
       "    // location in version 3\n",
       "    if (IPython.notebook.keyboard_manager) {\n",
       "        IPython.notebook.keyboard_manager.register_events(el);\n",
       "    } else {\n",
       "        // location in version 2\n",
       "        IPython.keyboard_manager.register_events(el);\n",
       "    }\n",
       "};\n",
       "\n",
       "mpl.figure.prototype._key_event_extra = function (event, _name) {\n",
       "    // Check for shift+enter\n",
       "    if (event.shiftKey && event.which === 13) {\n",
       "        this.canvas_div.blur();\n",
       "        // select the cell after this one\n",
       "        var index = IPython.notebook.find_cell_index(this.cell_info[0]);\n",
       "        IPython.notebook.select(index + 1);\n",
       "    }\n",
       "};\n",
       "\n",
       "mpl.figure.prototype.handle_save = function (fig, _msg) {\n",
       "    fig.ondownload(fig, null);\n",
       "};\n",
       "\n",
       "mpl.find_output_cell = function (html_output) {\n",
       "    // Return the cell and output element which can be found *uniquely* in the notebook.\n",
       "    // Note - this is a bit hacky, but it is done because the \"notebook_saving.Notebook\"\n",
       "    // IPython event is triggered only after the cells have been serialised, which for\n",
       "    // our purposes (turning an active figure into a static one), is too late.\n",
       "    var cells = IPython.notebook.get_cells();\n",
       "    var ncells = cells.length;\n",
       "    for (var i = 0; i < ncells; i++) {\n",
       "        var cell = cells[i];\n",
       "        if (cell.cell_type === 'code') {\n",
       "            for (var j = 0; j < cell.output_area.outputs.length; j++) {\n",
       "                var data = cell.output_area.outputs[j];\n",
       "                if (data.data) {\n",
       "                    // IPython >= 3 moved mimebundle to data attribute of output\n",
       "                    data = data.data;\n",
       "                }\n",
       "                if (data['text/html'] === html_output) {\n",
       "                    return [cell, data, j];\n",
       "                }\n",
       "            }\n",
       "        }\n",
       "    }\n",
       "};\n",
       "\n",
       "// Register the function which deals with the matplotlib target/channel.\n",
       "// The kernel may be null if the page has been refreshed.\n",
       "if (IPython.notebook.kernel !== null) {\n",
       "    IPython.notebook.kernel.comm_manager.register_target(\n",
       "        'matplotlib',\n",
       "        mpl.mpl_figure_comm\n",
       "    );\n",
       "}\n"
      ],
      "text/plain": [
       "<IPython.core.display.Javascript object>"
      ]
     },
     "metadata": {},
     "output_type": "display_data"
    },
    {
     "data": {
      "text/html": [
       "<img src=\"data:image/png;base64,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\" width=\"640\">"
      ],
      "text/plain": [
       "<IPython.core.display.HTML object>"
      ]
     },
     "metadata": {},
     "output_type": "display_data"
    },
    {
     "data": {
      "text/plain": [
       "[<matplotlib.lines.Line2D at 0x7f02964f8310>]"
      ]
     },
     "execution_count": 15,
     "metadata": {},
     "output_type": "execute_result"
    }
   ],
   "source": [
    "fig = plt.figure()\n",
    "plt.plot(numpy.arange(10))"
   ]
  },
  {
   "cell_type": "markdown",
   "id": "developmental-locking",
   "metadata": {},
   "source": [
    "Sauvez la figure avec:"
   ]
  },
  {
   "cell_type": "code",
   "execution_count": 16,
   "id": "senior-pixel",
   "metadata": {},
   "outputs": [],
   "source": [
    "fig.savefig('figures/my_figure.png')"
   ]
  },
  {
   "cell_type": "markdown",
   "id": "967f8f7b",
   "metadata": {},
   "source": [
    "Notez que différents formats de fichiers peuvent être utilisés."
   ]
  },
  {
   "cell_type": "markdown",
   "id": "stuffed-glasgow",
   "metadata": {},
   "source": [
    "# Calcul scientifique avec Numpy\n",
    "\n",
    "[Numpy](https://numpy.org) est la bibliothèque de calcul numérique par défaut pour Python.\n",
    "\n",
    "D'autres modules sont disponibles, les principaux sont:\n",
    "* [Scipy](https://www.scipy.org/) avec une syntaxe plus *mathématiques*\n",
    "* [PyTorch](https://pytorch.org/) dédié au Deep Learning, reprend la plupart des éléments de Numpy et permet d'effectuer les calculs sur CPU ou GPU\n",
    "* [TensorFlow](https://www.tensorflow.org/) projet concurrent de PyTorch, très similaire"
   ]
  },
  {
   "cell_type": "markdown",
   "id": "capital-fortune",
   "metadata": {},
   "source": [
    "**Numpy** permet de simplement et rapidement manipuler des données numériques.\n",
    "\n",
    "## La classe de base: numpy.ndarray\n",
    "\n",
    "La classe de base est le **numpy.ndarray**.\n",
    "\"ndarray\" : n-dimensional array (vecteur multi-dimensionnel) permet de stocker et traiter des données numériques mais également textuelles sous forme de scalaire, vecteur, tenseur à **n** dimensions.\n",
    "\n",
    "Les exemples suivant montre un petit aperçu (vraiment petit) des nombreuses fonctionnalités qu'offre Numpy.\n",
    "\n",
    "**Avant d'implémenter des choses en python, demandez-vous toujours si Numpy ne le fait pas déjà.**"
   ]
  },
  {
   "cell_type": "code",
   "execution_count": 17,
   "id": "material-croatia",
   "metadata": {},
   "outputs": [
    {
     "data": {
      "text/plain": [
       "array([1., 1., 1., 1., 1.])"
      ]
     },
     "execution_count": 17,
     "metadata": {},
     "output_type": "execute_result"
    }
   ],
   "source": [
    "hVec = numpy.ones(5)\n",
    "hVec"
   ]
  },
  {
   "cell_type": "code",
   "execution_count": 18,
   "id": "honest-ireland",
   "metadata": {},
   "outputs": [
    {
     "data": {
      "text/plain": [
       "array([[1.],\n",
       "       [1.],\n",
       "       [1.],\n",
       "       [1.],\n",
       "       [1.]])"
      ]
     },
     "execution_count": 18,
     "metadata": {},
     "output_type": "execute_result"
    }
   ],
   "source": [
    "vVec = numpy.ones((5, 1))\n",
    "vVec"
   ]
  },
  {
   "cell_type": "markdown",
   "id": "fede6f4e",
   "metadata": {},
   "source": [
    "Comme vous l'avez vu en cours, il y a une différence entre vecteur et matrice. \n",
    "C'est encore plus vrai dans ``Numpy``où un vecteur peut être:\n",
    "* à 1 seule dimension\n",
    "* ligne \n",
    "* colonne\n",
    "\n",
    "Ainsi les dimensions de hVec et vVec sont différentes:"
   ]
  },
  {
   "cell_type": "code",
   "execution_count": 19,
   "id": "eight-source",
   "metadata": {},
   "outputs": [
    {
     "name": "stdout",
     "output_type": "stream",
     "text": [
      "Shape of hVec: (5,)\n",
      "Shape of vVec: (5, 1)\n"
     ]
    }
   ],
   "source": [
    "print(f\"Shape of hVec: {hVec.shape}\")\n",
    "print(f\"Shape of vVec: {vVec.shape}\")"
   ]
  },
  {
   "cell_type": "markdown",
   "id": "2104179b",
   "metadata": {},
   "source": [
    "Créez dans la cellule suivante un vecteur ligne, un vecteur colonne et calculer leurs produits vectoriels\n",
    "* ligne multiplié par colonne (produit scalaire)\n",
    "* colonne multiplié par ligne (produit matriciel)"
   ]
  },
  {
   "cell_type": "code",
   "execution_count": 31,
   "id": "b27cc53b",
   "metadata": {},
   "outputs": [
    {
     "name": "stdout",
     "output_type": "stream",
     "text": [
      "[1 3 4]\n",
      "[[2]\n",
      " [5]\n",
      " [3]]\n",
      "produit vectoriel :  [[-11   5  -1]]\n"
     ]
    }
   ],
   "source": [
    "vligne = numpy.array([1,3,4])\n",
    "print(vligne)\n",
    "\n",
    "vcol = numpy.array([2,5,3]).reshape(3,1)\n",
    "print(vcol)\n",
    "\n",
    "print(\"produit vectoriel : \", numpy.cross(vligne,vcol.T))"
   ]
  },
  {
   "cell_type": "markdown",
   "id": "occupied-samuel",
   "metadata": {},
   "source": [
    "### Initialiser des numpy.array\n",
    "On peut simplement initiliser des numpy.ndarray pour contenir des zéros:"
   ]
  },
  {
   "cell_type": "code",
   "execution_count": 32,
   "id": "derived-metro",
   "metadata": {},
   "outputs": [
    {
     "data": {
      "text/plain": [
       "array([[0., 0., 0.],\n",
       "       [0., 0., 0.],\n",
       "       [0., 0., 0.]])"
      ]
     },
     "execution_count": 32,
     "metadata": {},
     "output_type": "execute_result"
    }
   ],
   "source": [
    "zvec = numpy.zeros((3,3))\n",
    "zvec"
   ]
  },
  {
   "cell_type": "markdown",
   "id": "expanded-russia",
   "metadata": {},
   "source": [
    "Des valeurs aléatoires (avec différentes distributions)."
   ]
  },
  {
   "cell_type": "code",
   "execution_count": 33,
   "id": "naval-editing",
   "metadata": {},
   "outputs": [
    {
     "data": {
      "text/plain": [
       "array([1.54191697, 0.39296773, 0.34602196, 1.04025202])"
      ]
     },
     "execution_count": 33,
     "metadata": {},
     "output_type": "execute_result"
    }
   ],
   "source": [
    "rvec = numpy.random.randn(4)\n",
    "rvec"
   ]
  },
  {
   "cell_type": "markdown",
   "id": "blond-knock",
   "metadata": {},
   "source": [
    "Une allocation rapide de la mémoire sans modifier les valeurs."
   ]
  },
  {
   "cell_type": "code",
   "execution_count": 35,
   "id": "electrical-enhancement",
   "metadata": {},
   "outputs": [
    {
     "data": {
      "text/plain": [
       "array([[ 75.1       , 149.76666667, 224.43333333],\n",
       "       [299.1       , 373.76666667, 422.4       ]])"
      ]
     },
     "execution_count": 35,
     "metadata": {},
     "output_type": "execute_result"
    }
   ],
   "source": [
    "evec = numpy.empty((2,3), dtype=numpy.float64)\n",
    "evec"
   ]
  },
  {
   "cell_type": "markdown",
   "id": "80f5e2bb",
   "metadata": {},
   "source": [
    "**Attention**: Numpy défini un type par défaut lorsqu'on crée un *ndarray* sans en spécifier.\n",
    "\n",
    "En utilisant la cellule suivante, trouvez quel est le type utilisé par défaut dans Numpy et affichez le."
   ]
  },
  {
   "cell_type": "code",
   "execution_count": 41,
   "id": "88b75686",
   "metadata": {},
   "outputs": [
    {
     "name": "stdout",
     "output_type": "stream",
     "text": [
      "float64\n"
     ]
    }
   ],
   "source": [
    "test = numpy.ndarray((5,3))\n",
    "print(test.dtype)"
   ]
  },
  {
   "cell_type": "markdown",
   "id": "aboriginal-cooler",
   "metadata": {},
   "source": [
    "On peut initialiser un ndarray à partir d'une liste **python** unidimensionnelle"
   ]
  },
  {
   "cell_type": "code",
   "execution_count": 42,
   "id": "voluntary-individual",
   "metadata": {},
   "outputs": [
    {
     "data": {
      "text/plain": [
       "array([1, 2, 3])"
      ]
     },
     "execution_count": 42,
     "metadata": {},
     "output_type": "execute_result"
    }
   ],
   "source": [
    "lvec = numpy.array([1, 2, 3])\n",
    "lvec"
   ]
  },
  {
   "cell_type": "markdown",
   "id": "charged-wildlife",
   "metadata": {},
   "source": [
    "multi-dimensionnelle:"
   ]
  },
  {
   "cell_type": "code",
   "execution_count": 43,
   "id": "scenic-password",
   "metadata": {},
   "outputs": [
    {
     "data": {
      "text/plain": [
       "array([[1, 2, 3],\n",
       "       [4, 5, 6]])"
      ]
     },
     "execution_count": 43,
     "metadata": {},
     "output_type": "execute_result"
    }
   ],
   "source": [
    "lvec2d = numpy.array([[1, 2, 3],[4,5,6]])\n",
    "lvec2d"
   ]
  },
  {
   "cell_type": "markdown",
   "id": "5c216552",
   "metadata": {},
   "source": [
    "**Attention** un `numpy.array` doit avoir des lignes, colonnes (dimensions) qui sont toutes de la même taille.\n",
    "\n",
    "Expliquez ce qui se passe dans la cellule suivante."
   ]
  },
  {
   "cell_type": "code",
   "execution_count": 45,
   "id": "6cfb4f9b",
   "metadata": {},
   "outputs": [
    {
     "name": "stderr",
     "output_type": "stream",
     "text": [
      "/tmp/ipykernel_37160/3673109122.py:1: VisibleDeprecationWarning: Creating an ndarray from ragged nested sequences (which is a list-or-tuple of lists-or-tuples-or ndarrays with different lengths or shapes) is deprecated. If you meant to do this, you must specify 'dtype=object' when creating the ndarray.\n",
      "  lvec2d = numpy.array([[1, 2, 3],[4,5]])\n"
     ]
    },
    {
     "data": {
      "text/plain": [
       "array([list([1, 2, 3]), list([4, 5])], dtype=object)"
      ]
     },
     "execution_count": 45,
     "metadata": {},
     "output_type": "execute_result"
    }
   ],
   "source": [
    "lvec2d = numpy.array([[1, 2, 3],[4,5]])\n",
    "lvec2d\n",
    "\n",
    "#Pas les mêmes dimensions donc création d'un vecteurs d'objets list"
   ]
  },
  {
   "cell_type": "markdown",
   "id": "contemporary-modification",
   "metadata": {},
   "source": [
    "Il est possible de créer des **ndarray** plus complexes:"
   ]
  },
  {
   "cell_type": "code",
   "execution_count": 46,
   "id": "nervous-convert",
   "metadata": {},
   "outputs": [
    {
     "name": "stdout",
     "output_type": "stream",
     "text": [
      "Premier exemple: [3 3 3 3]\n",
      "Deuxième exemple: [1 1 2 2 3 3 4 4]\n"
     ]
    }
   ],
   "source": [
    "print(f\"Premier exemple: {numpy.repeat(3, 4)}\")\n",
    "x = numpy.array([[1,2],[3,4]])\n",
    "print(f\"Deuxième exemple: {numpy.repeat(x, 2)}\")"
   ]
  },
  {
   "cell_type": "markdown",
   "id": "abe98f54",
   "metadata": {},
   "source": [
    "Mais aussi avec la méthode ``numpy.tile(A, reps)``.\n",
    "Testez la dans la cellule suivante"
   ]
  },
  {
   "cell_type": "code",
   "execution_count": 48,
   "id": "d2802d36",
   "metadata": {},
   "outputs": [
    {
     "name": "stdout",
     "output_type": "stream",
     "text": [
      "[[1 2]\n",
      " [3 4]]\n",
      "[[1 2 1 2]\n",
      " [3 4 3 4]]\n"
     ]
    }
   ],
   "source": [
    "print(x)\n",
    "print(numpy.tile(x, 2))"
   ]
  },
  {
   "cell_type": "markdown",
   "id": "mental-bermuda",
   "metadata": {},
   "source": [
    "On peut facilement **typer** les variable à utiliser \n",
    "([type](https://numpy.org/doc/stable/reference/arrays.dtypes.html)):"
   ]
  },
  {
   "cell_type": "code",
   "execution_count": 50,
   "id": "valid-freight",
   "metadata": {},
   "outputs": [
    {
     "data": {
      "text/plain": [
       "array([1, 1])"
      ]
     },
     "execution_count": 50,
     "metadata": {},
     "output_type": "execute_result"
    }
   ],
   "source": [
    "ivec = numpy.random.randint((2,2), dtype=int)\n",
    "ivec"
   ]
  },
  {
   "cell_type": "markdown",
   "id": "sunset-gathering",
   "metadata": {},
   "source": [
    "et vérifier le type des variables:"
   ]
  },
  {
   "cell_type": "code",
   "execution_count": 51,
   "id": "extensive-example",
   "metadata": {},
   "outputs": [
    {
     "data": {
      "text/plain": [
       "dtype('int64')"
      ]
     },
     "execution_count": 51,
     "metadata": {},
     "output_type": "execute_result"
    }
   ],
   "source": [
    "ivec.dtype"
   ]
  },
  {
   "cell_type": "markdown",
   "id": "classified-division",
   "metadata": {},
   "source": [
    "**Attention** par défaut, le type d'un numpy.ndarray est **float64**, ce qui consomme beaucoup de mémoire et n'est pas souvent utile."
   ]
  },
  {
   "cell_type": "markdown",
   "id": "knowing-stereo",
   "metadata": {},
   "source": [
    "### Opérations de base sur les **numpy.ndarray**\n",
    "\n",
    "Les **numpy.ndarray** se manipulent comme des vecteurs, matrices ou tenseurs et un grand nombre de méthodes mathématiques sont déjà implémentées pour calculer :\n",
    "* des moyennes\n",
    "* des écarts types\n",
    "* les max, min\n",
    "* trouver les indices des max, min\n",
    "* calculer la somme des valeurs\n",
    "* calculer la somme culmulée des valeurs\n",
    "\n",
    "La documentation complète de [**Numpy**](https://numpy.org/doc/stable/reference/index.html#reference) est très utile car de nombreuses méthodes sont implémentées.\n",
    "\n",
    "Pour tester quelques fonctions de Numpy nous allons d'abord initialiser un vecteur d'entiers aléatoirement."
   ]
  },
  {
   "cell_type": "code",
   "execution_count": 52,
   "id": "modular-polyester",
   "metadata": {},
   "outputs": [
    {
     "data": {
      "text/plain": [
       "array([9, 0, 9, 1, 6, 2, 5, 5, 8, 7])"
      ]
     },
     "execution_count": 52,
     "metadata": {},
     "output_type": "execute_result"
    }
   ],
   "source": [
    "vec = numpy.random.randint(10, size=10)\n",
    "vec"
   ]
  },
  {
   "cell_type": "markdown",
   "id": "4579db1f",
   "metadata": {},
   "source": [
    "**Attention** à gérer l'initialisation de la [**graine de l'algorithme aléatoire**](https://en.wikipedia.org/wiki/Random_seed) (*seed*).\n",
    "\n",
    "**La génération de nombres aléatoires est déterministe.**\n",
    "\n",
    "Python a une graine, Numpy, une autre, PyTorch une troisième...\n",
    "\n",
    "Ces graines sont particulièrement importantes pourr la reproductibilité (confiance scientifique et debuggage).\n",
    "Exemple:"
   ]
  },
  {
   "cell_type": "code",
   "execution_count": 53,
   "id": "35c15df9",
   "metadata": {},
   "outputs": [
    {
     "name": "stdout",
     "output_type": "stream",
     "text": [
      "[6 3 7 4 6 9 2 6 7 4]\n",
      "[3 7 7 2 5 4 1 7 5 1]\n"
     ]
    }
   ],
   "source": [
    "numpy.random.seed(42)\n",
    "print(numpy.random.randint(10, size=10))\n",
    "print(numpy.random.randint(10, size=10))"
   ]
  },
  {
   "cell_type": "markdown",
   "id": "510dfcaa",
   "metadata": {},
   "source": [
    "Que se passe-t'il dans la cellule suivante?"
   ]
  },
  {
   "cell_type": "code",
   "execution_count": 54,
   "id": "51ba6ee5",
   "metadata": {},
   "outputs": [
    {
     "name": "stdout",
     "output_type": "stream",
     "text": [
      "[6 3 7 4 6 9 2 6 7 4]\n",
      "[6 3 7 4 6 9 2 6 7 4]\n",
      "[3 7 7 2 5 4 1 7 5 1]\n"
     ]
    }
   ],
   "source": [
    "numpy.random.seed(42)\n",
    "print(numpy.random.randint(10, size=10))\n",
    "numpy.random.seed(42)\n",
    "print(numpy.random.randint(10, size=10))\n",
    "print(numpy.random.randint(10, size=10))"
   ]
  },
  {
   "cell_type": "code",
   "execution_count": 56,
   "id": "champion-chaos",
   "metadata": {},
   "outputs": [
    {
     "name": "stdout",
     "output_type": "stream",
     "text": [
      "Vecteur vec: [0 1 2 5 5 6 7 8 9 9]\n",
      "On affiche la valeur minimum de vec avec : 0\n",
      "On affiche la valeur maximum de vec avec : 9\n",
      "On calcule le somme cumulée avec : [ 0  1  3  8 13 19 26 34 43 52]\n",
      "Le vecteur trié est: [0 1 2 5 5 6 7 8 9 9]\n"
     ]
    }
   ],
   "source": [
    "print(f\"Vecteur vec: {vec}\")\n",
    "print(f\"On affiche la valeur minimum de vec avec : {vec.min()}\")\n",
    "print(f\"On affiche la valeur maximum de vec avec : {vec.max()}\")\n",
    "print(f\"On calcule le somme cumulée avec : {vec.cumsum()}\")\n",
    "vec.sort() # trie le ndarray en place.\n",
    "print(f\"Le vecteur trié est: {vec}\")"
   ]
  },
  {
   "cell_type": "markdown",
   "id": "c648ff7f",
   "metadata": {},
   "source": [
    "### Inverse de matrice\n",
    "\n",
    "Créez une matrice aléatoire de dimension (3, 3).\n",
    "\n",
    "Calculez le déterminant de cette matrice et inversez là.\n",
    "\n",
    "Calculez ensuite le produit de cette matrice par son inverse.\n",
    "\n",
    "Trouvez le rang de cette matrice."
   ]
  },
  {
   "cell_type": "code",
   "execution_count": 96,
   "id": "0f0f2eff",
   "metadata": {},
   "outputs": [
    {
     "name": "stdout",
     "output_type": "stream",
     "text": [
      "mat : \n",
      " [[2 1 8]\n",
      " [7 9 6]\n",
      " [8 3 3]]\n",
      "det :  -362.9999999999999\n",
      "inv : \n",
      " [[-0.02479339 -0.05785124  0.18181818]\n",
      " [-0.07438017  0.15977961 -0.12121212]\n",
      " [ 0.14049587 -0.00550964 -0.03030303]]\n",
      "produit : \n",
      " [[ 1.00000000e+00  0.00000000e+00 -2.77555756e-17]\n",
      " [ 0.00000000e+00  1.00000000e+00  2.77555756e-17]\n",
      " [ 0.00000000e+00  0.00000000e+00  1.00000000e+00]]\n",
      "rang :  3\n"
     ]
    }
   ],
   "source": [
    "mat = numpy.random.randint(10, size=(3,3), dtype=int)\n",
    "print(\"mat : \\n\", mat)\n",
    "\n",
    "det = numpy.linalg.det(mat)\n",
    "print(\"det : \", det)\n",
    "\n",
    "inv = numpy.linalg.inv(mat)\n",
    "print(\"inv : \\n\", inv)\n",
    "\n",
    "produit = mat.dot(inv)\n",
    "print (\"produit : \\n\", produit)\n",
    "\n",
    "rang = numpy.linalg.matrix_rank(produit)\n",
    "print(\"rang : \", rang)"
   ]
  },
  {
   "cell_type": "code",
   "execution_count": null,
   "id": "30b7a54a",
   "metadata": {},
   "outputs": [],
   "source": []
  },
  {
   "cell_type": "markdown",
   "id": "7d967448",
   "metadata": {},
   "source": [
    "### Normes de vecteurs et de matrice\n",
    "\n",
    "Numpy permet de calculer rapidement un grand nombre de [**normes**](https://numpy.org/doc/stable/reference/generated/numpy.linalg.norm.html)"
   ]
  },
  {
   "cell_type": "markdown",
   "id": "3a7a740a",
   "metadata": {},
   "source": [
    "**Note** vous avez vu les systèmes d'équations linéaires. La résolution d'un système peut êter faite sans inverser la matrice (de façon plus efficace) avec les fonction `solve`de Numpy."
   ]
  },
  {
   "cell_type": "markdown",
   "id": "faced-colony",
   "metadata": {},
   "source": [
    "### Indexing"
   ]
  },
  {
   "cell_type": "code",
   "execution_count": 97,
   "id": "liable-dubai",
   "metadata": {},
   "outputs": [
    {
     "name": "stdout",
     "output_type": "stream",
     "text": [
      "Nouveau vecteur: [0 7 2 6 1 1 6 5 2 8]\n",
      "On peut trouver l'indice de la valeur minimum avec: 0\n",
      "On peut trouver l'indice de la valeur maximum avec: 9\n",
      "On peut trouver les indices de toutes les valeurs triés avec : [0 4 5 2 8 7 3 6 1 9]\n",
      "Et on obtient donc le vecteur trié en faisant: [0 1 1 2 2 5 6 6 7 8]\n"
     ]
    }
   ],
   "source": [
    "vec = numpy.random.randint(10, size=10)\n",
    "print(f\"Nouveau vecteur: {vec}\")\n",
    "print(f\"On peut trouver l'indice de la valeur minimum avec: {vec.argmin()}\")\n",
    "print(f\"On peut trouver l'indice de la valeur maximum avec: {vec.argmax()}\")\n",
    "print(f\"On peut trouver les indices de toutes les valeurs triés avec : {vec.argsort()}\")\n",
    "print(f\"Et on obtient donc le vecteur trié en faisant: {vec[vec.argsort()]}\")\n"
   ]
  },
  {
   "cell_type": "markdown",
   "id": "romance-compromise",
   "metadata": {},
   "source": [
    "<div style=\"border: solid 3px #000;\">\n",
    "    <h1 style=\"text-align: center; color:#000; font-family:Georgia; font-size:26px;\">Exercice</h1>\n",
    "    <p style='text-align: left;'> </p>\n",
    "</div>\n",
    "\n",
    "\n",
    "\n",
    "Écrire un code qui:\n",
    "* initialise un vecteur de dimension $10$ avec des valeurs aléatoire tirées uniformément entre 1 et 2\n",
    "* soustrait à chaque valeur de cette matrice le minimum de ces valeurs\n",
    "* affiche l'indice de la valeur minimum dans le vecteur en utilisant une `f-string`"
   ]
  },
  {
   "cell_type": "code",
   "execution_count": 114,
   "id": "textile-sequence",
   "metadata": {},
   "outputs": [
    {
     "name": "stdout",
     "output_type": "stream",
     "text": [
      "[2 2 2 1 2 2 2 2 1 2]\n",
      "[1 1 1 0 1 1 1 1 0 1]\n",
      "Indice de la valeur minimum : 3\n"
     ]
    }
   ],
   "source": [
    "vec = numpy.random.randint(1,3, size=10)\n",
    "print(vec)\n",
    "\n",
    "sous = vec - vec.min()\n",
    "print(sous)\n",
    "\n",
    "print(f\"Indice de la valeur minimum : {vec.argmin()}\")"
   ]
  },
  {
   "cell_type": "markdown",
   "id": "bright-importance",
   "metadata": {},
   "source": [
    "### Vues et indexage\n",
    "\n",
    "En pratique, les **ndarray** sont stockés sous forme d'un tableau dans la mémoire de la machine.\n",
    "\n",
    "Afin d'accélerer les calculs ou de simplifier les traitements, un grand nombre de méthodes sont disponibles pour visualier les données des **ndarray**.\n",
    "\n",
    "On peut accéder aux valeurs de différentes façons:"
   ]
  },
  {
   "cell_type": "code",
   "execution_count": 115,
   "id": "pursuant-prison",
   "metadata": {},
   "outputs": [
    {
     "name": "stdout",
     "output_type": "stream",
     "text": [
      "Vecteur original: [ 0  1  2  3  4  5  6  7  8  9 10 11 12 13 14 15]\n",
      "\n",
      "ndArray redimensioné\n",
      " [[ 0  1  2  3]\n",
      " [ 4  5  6  7]\n",
      " [ 8  9 10 11]\n",
      " [12 13 14 15]]\n",
      "\n",
      "[[ 4  5  6]\n",
      " [ 8  9 10]]\n"
     ]
    }
   ],
   "source": [
    "A = numpy.arange(16)\n",
    "print(f\"Vecteur original: {A}\\n\")\n",
    "\n",
    "A = A.reshape(4, 4)\n",
    "print(f\"ndArray redimensioné\\n {A}\\n\")\n",
    "\n",
    "# par indexage:\n",
    "print(A[1:3, :3]) # lignes de 1 comprise à 3 non comprise et colonnes jusqu'à 3 non comprise."
   ]
  },
  {
   "cell_type": "code",
   "execution_count": 116,
   "id": "exclusive-creek",
   "metadata": {},
   "outputs": [
    {
     "name": "stdout",
     "output_type": "stream",
     "text": [
      "On crée un masque de booléen\n",
      "\n",
      "[[False False False False]\n",
      " [False False  True False]\n",
      " [False False  True  True]\n",
      " [False  True False False]]\n",
      "\n",
      "Qu'on utilise pour sélectionner une partie du ndarray A\n"
     ]
    },
    {
     "data": {
      "text/plain": [
       "array([ 6, 10, 11, 13])"
      ]
     },
     "execution_count": 116,
     "metadata": {},
     "output_type": "execute_result"
    }
   ],
   "source": [
    "# Avec des booléens:\n",
    "B = numpy.random.randint(0,2,16).reshape(4, 4).astype(bool)\n",
    "\n",
    "print(\"On crée un masque de booléen\\n\")\n",
    "print(B)\n",
    "\n",
    "print(\"\\nQu'on utilise pour sélectionner une partie du ndarray A\")\n",
    "A[B]"
   ]
  },
  {
   "cell_type": "markdown",
   "id": "8d50f6d2",
   "metadata": {},
   "source": [
    "**Attention** la dimension du ndArray renvoyé n'est pas celle de `A`"
   ]
  },
  {
   "cell_type": "code",
   "execution_count": 117,
   "id": "outstanding-fields",
   "metadata": {},
   "outputs": [
    {
     "name": "stdout",
     "output_type": "stream",
     "text": [
      "[0 1 2 3 4 5 6 7 8 9]\n",
      "Avec un pas de 3: [0 3 6 9]\n",
      "A l'envers: [9 8 7 6 5 4 3 2 1 0]\n",
      "A l'envers, sur un segment et avec un pas donné: [8 6 4]\n"
     ]
    }
   ],
   "source": [
    "# On peut utiliser un pas de lecture\n",
    "A = numpy.arange(10)\n",
    "print(A)\n",
    "print(f\"Avec un pas de 3: {A[::3]}\")\n",
    "\n",
    "print(f\"A l'envers: {A[::-1]}\")\n",
    "\n",
    "print(f\"A l'envers, sur un segment et avec un pas donné: {A[8:2:-2]}\")"
   ]
  },
  {
   "cell_type": "markdown",
   "id": "quantitative-third",
   "metadata": {},
   "source": [
    "Voici quelques méthodes pratiques:\n",
    "\n",
    "* la méthode **flatten** renvoit une copie du **ndarray** sous forme d'un vecteur de dimension 1"
   ]
  },
  {
   "cell_type": "code",
   "execution_count": 65,
   "id": "under-mixture",
   "metadata": {},
   "outputs": [
    {
     "name": "stdout",
     "output_type": "stream",
     "text": [
      "Matrice M originale:\n",
      "[[1 2 3]\n",
      " [4 5 6]]\n",
      "\n",
      "En utilisant flatten:\n",
      "[1 2 3 4 5 6]\n"
     ]
    }
   ],
   "source": [
    "M = numpy.array([[1, 2, 3],[4,5,6]])\n",
    "print(\"Matrice M originale:\")\n",
    "print(M)\n",
    "\n",
    "# Collapse M and display\n",
    "print(\"\\nEn utilisant flatten:\")\n",
    "print(M.flatten())"
   ]
  },
  {
   "cell_type": "markdown",
   "id": "excessive-gothic",
   "metadata": {},
   "source": [
    "* la méthode **reshape** renvoir une copie redimensionnée d'un **ndarray**"
   ]
  },
  {
   "cell_type": "code",
   "execution_count": 118,
   "id": "senior-integration",
   "metadata": {},
   "outputs": [
    {
     "name": "stdout",
     "output_type": "stream",
     "text": [
      "Matrice M originale:\n",
      "[[1 2 3]\n",
      " [4 5 6]]\n",
      "\n",
      "En utilisant reshape:\n",
      "[[1 2]\n",
      " [3 4]\n",
      " [5 6]]\n",
      "\n",
      "En utilisant reshape:\n",
      "[[1 5]\n",
      " [4 3]\n",
      " [2 6]]\n"
     ]
    }
   ],
   "source": [
    "M = numpy.array([[1, 2, 3],[4,5,6]])\n",
    "print(\"Matrice M originale:\")\n",
    "print(M)\n",
    "\n",
    "print(\"\\nEn utilisant reshape:\")\n",
    "print(M.reshape(3, 2))\n",
    "\n",
    "# Attention, selon le format d'indexing on peut obtenir différents résultats\n",
    "print(\"\\nEn utilisant reshape:\")\n",
    "print(M.reshape((3, 2), order='F'))"
   ]
  },
  {
   "cell_type": "markdown",
   "id": "physical-falls",
   "metadata": {},
   "source": [
    "<div style=\"border: solid 3px #000;\">\n",
    "    <h1 style=\"text-align: center; color:#000; font-family:Georgia; font-size:26px;\">Exercice</h1>\n",
    "    <p style='text-align: left;'> </p>\n",
    "</div>\n",
    "\n",
    "On peut simplement extraire la diagonale d'un **ndarray**:\n",
    "\n",
    "Écrire un code qui:\n",
    "* initialise une matrice de réels (**float64**) de dimension $3 \\times 3$\n",
    "* Extraire sa diagonale et afficher ses dimensions (shape)\n",
    "* Modifier cette diagonale pour obtenir un vecteur de dimension $3 \\times 1$ avec la méthode **newaxis**"
   ]
  },
  {
   "cell_type": "code",
   "execution_count": 68,
   "id": "blond-triumph",
   "metadata": {},
   "outputs": [
    {
     "name": "stdout",
     "output_type": "stream",
     "text": [
      "[[0.10789143 0.03142919 0.6364104 ]\n",
      " [0.31435597 0.5085707  0.9075665 ]\n",
      " [0.24929222 0.41038293 0.75555116]]\n",
      "(3,)\n",
      "(3, 1)\n",
      "[[0.10789143]\n",
      " [0.5085707 ]\n",
      " [0.75555116]]\n"
     ]
    }
   ],
   "source": [
    "# Solution\n",
    "M = numpy.random.rand(3, 3).astype(numpy.float32)\n",
    "print(M)\n",
    "print(numpy.diag(M).shape)\n",
    "print(numpy.diag(M)[:, numpy.newaxis].shape)\n",
    "print(numpy.diag(M)[:, numpy.newaxis])"
   ]
  },
  {
   "cell_type": "markdown",
   "id": "mysterious-volleyball",
   "metadata": {},
   "source": [
    "La méthode **lib.stride_tricks.sliding_window_view** permet de se déplacer dans un **ndarray** en fixant un pas précis et en affichant une zone déterminée."
   ]
  },
  {
   "cell_type": "code",
   "execution_count": 69,
   "id": "peaceful-custody",
   "metadata": {},
   "outputs": [
    {
     "name": "stdout",
     "output_type": "stream",
     "text": [
      "Matrice M originale:\n",
      "[[ 0  1  2  3]\n",
      " [ 4  5  6  7]\n",
      " [ 8  9 10 11]\n",
      " [12 13 14 15]]\n"
     ]
    },
    {
     "data": {
      "text/plain": [
       "array([[[[ 0,  1],\n",
       "         [ 4,  5]],\n",
       "\n",
       "        [[ 1,  2],\n",
       "         [ 5,  6]],\n",
       "\n",
       "        [[ 2,  3],\n",
       "         [ 6,  7]]],\n",
       "\n",
       "\n",
       "       [[[ 4,  5],\n",
       "         [ 8,  9]],\n",
       "\n",
       "        [[ 5,  6],\n",
       "         [ 9, 10]],\n",
       "\n",
       "        [[ 6,  7],\n",
       "         [10, 11]]],\n",
       "\n",
       "\n",
       "       [[[ 8,  9],\n",
       "         [12, 13]],\n",
       "\n",
       "        [[ 9, 10],\n",
       "         [13, 14]],\n",
       "\n",
       "        [[10, 11],\n",
       "         [14, 15]]]])"
      ]
     },
     "execution_count": 69,
     "metadata": {},
     "output_type": "execute_result"
    }
   ],
   "source": [
    "M = numpy.arange(16).reshape((4, 4))\n",
    "print(\"Matrice M originale:\")\n",
    "print(M)\n",
    "\n",
    "window_size = (2, 2)\n",
    "M_view = numpy.lib.stride_tricks.sliding_window_view(M, window_size)\n",
    "M_view"
   ]
  },
  {
   "cell_type": "markdown",
   "id": "static-catch",
   "metadata": {},
   "source": [
    "On peut également changer le pas de déplacement"
   ]
  },
  {
   "cell_type": "code",
   "execution_count": 70,
   "id": "humanitarian-inspiration",
   "metadata": {},
   "outputs": [
    {
     "name": "stdout",
     "output_type": "stream",
     "text": [
      "Matrice M originale:\n",
      "[[ 0  1  2  3]\n",
      " [ 4  5  6  7]\n",
      " [ 8  9 10 11]\n",
      " [12 13 14 15]]\n"
     ]
    },
    {
     "data": {
      "text/plain": [
       "array([[[[ 0,  1],\n",
       "         [ 4,  5]],\n",
       "\n",
       "        [[ 2,  3],\n",
       "         [ 6,  7]]],\n",
       "\n",
       "\n",
       "       [[[ 8,  9],\n",
       "         [12, 13]],\n",
       "\n",
       "        [[10, 11],\n",
       "         [14, 15]]]])"
      ]
     },
     "execution_count": 70,
     "metadata": {},
     "output_type": "execute_result"
    }
   ],
   "source": [
    "print(\"Matrice M originale:\")\n",
    "print(M)\n",
    "M_view = numpy.lib.stride_tricks.sliding_window_view(M, window_size)[::2, ::2]\n",
    "M_view"
   ]
  },
  {
   "cell_type": "markdown",
   "id": "insured-compensation",
   "metadata": {},
   "source": [
    "### Calcul matriciel\n",
    "\n",
    "Écrire un code pour calculer $X = A \\times B$\n",
    "Où $A$ et $B$ sont deux matrices de dimension $100 \\times 100$ définies par:"
   ]
  },
  {
   "cell_type": "raw",
   "id": "present-remove",
   "metadata": {},
   "source": [
    "A = array([[   0,    1,    2, ...,   97,   98,   99],\n",
    "          [ 100,  101,  102, ...,  197,  198,  199],\n",
    "          [ 200,  201,  202, ...,  297,  298,  299],\n",
    "          ...,\n",
    "          [9700, 9701, 9702, ..., 9797, 9798, 9799],\n",
    "          [9800, 9801, 9802, ..., 9897, 9898, 9899],\n",
    "          [9900, 9901, 9902, ..., 9997, 9998, 9999]])\n",
    "          \n",
    "B = array([[9999, 9998, 9997, ..., 9902, 9901, 9900],\n",
    "          [9899, 9898, 9897, ..., 9802, 9801, 9800],\n",
    "          [9799, 9798, 9797, ..., 9702, 9701, 9700],\n",
    "          ...,\n",
    "          [ 299,  298,  297, ...,  202,  201,  200],\n",
    "          [ 199,  198,  197, ...,  102,  101,  100],\n",
    "          [  99,   98,   97, ...,    2,    1,    0]])"
   ]
  },
  {
   "cell_type": "code",
   "execution_count": 4,
   "id": "capable-elevation",
   "metadata": {},
   "outputs": [],
   "source": [
    "# Solution"
   ]
  },
  {
   "cell_type": "markdown",
   "id": "advance-london",
   "metadata": {},
   "source": [
    "<div style=\"border: solid 3px #000;\">\n",
    "    <h1 style=\"text-align: center; color:#000; font-family:Georgia; font-size:26px;\">Exercice</h1>\n",
    "    <p style='text-align: left;'> </p>\n",
    "</div>\n",
    "\n",
    "Calculez le produit matriciel $A \\times B$ et mesurez le temps d'execution avec le module **time**\n",
    "\n",
    "Effectuer le même calcul avec **Numpy** et la méthode **dot**."
   ]
  },
  {
   "cell_type": "code",
   "execution_count": 5,
   "id": "structured-hurricane",
   "metadata": {},
   "outputs": [],
   "source": [
    "# Solution\n"
   ]
  },
  {
   "cell_type": "markdown",
   "id": "productive-injury",
   "metadata": {},
   "source": [
    "Quelle est la différence entre:\n",
    "    \n",
    "A * B\n",
    "et \n",
    "A.dot(B)"
   ]
  },
  {
   "cell_type": "code",
   "execution_count": null,
   "id": "1446588c",
   "metadata": {},
   "outputs": [],
   "source": []
  },
  {
   "cell_type": "markdown",
   "id": "unique-southeast",
   "metadata": {},
   "source": [
    "## Broadcasting\n",
    "\n",
    "**Numpy** effectue la plupart du temps les opérations terme à terme.\n",
    "\n",
    "Ce qui nécessite d'avoir des ndarray de même taille. \n",
    "\n",
    "Exemple:"
   ]
  },
  {
   "cell_type": "code",
   "execution_count": 74,
   "id": "viral-suggestion",
   "metadata": {},
   "outputs": [
    {
     "data": {
      "text/plain": [
       "array([2., 4., 6.])"
      ]
     },
     "execution_count": 74,
     "metadata": {},
     "output_type": "execute_result"
    }
   ],
   "source": [
    "a = numpy.array([1.0, 2.0, 3.0])\n",
    "b = numpy.array([2.0, 2.0, 2.0])\n",
    "a * b"
   ]
  },
  {
   "cell_type": "markdown",
   "id": "wrong-checklist",
   "metadata": {},
   "source": [
    "Cependant, dans certaines conditions (dimensions compatibles), Numpy effectue du **broadcasting** et permet de faire des calculs avec différentes dimensions.\n",
    "\n",
    "Exemple:"
   ]
  },
  {
   "cell_type": "code",
   "execution_count": 75,
   "id": "endless-brain",
   "metadata": {},
   "outputs": [
    {
     "data": {
      "text/plain": [
       "array([2., 4., 6.])"
      ]
     },
     "execution_count": 75,
     "metadata": {},
     "output_type": "execute_result"
    }
   ],
   "source": [
    "from numpy import array\n",
    "a = array([1.0, 2.0, 3.0])\n",
    "b = 2.0\n",
    "a * b"
   ]
  },
  {
   "cell_type": "markdown",
   "id": "sudden-clerk",
   "metadata": {},
   "source": [
    "<div style=\"border: solid 3px #000;\">\n",
    "    <h1 style=\"text-align: center; color:#000; font-family:Georgia; font-size:26px;\">Règle de broadcasting</h1>\n",
    "    <h1 style=\"text-align: center; color:#000; font-family:Georgia; font-size:18px;\">Pour le broadcasting, la taille de l'axe commun entre les deux ndarray doit être la même ou l'une d'elle doit être 1.</h1>\n",
    "    <p style='text-align: left;'> </p>\n",
    "</div>"
   ]
  },
  {
   "cell_type": "markdown",
   "id": "together-flesh",
   "metadata": {},
   "source": [
    "<img src='https://numpy.org/doc/stable/_images/broadcasting_1.png' width=\"300\" height=\"500\">"
   ]
  },
  {
   "cell_type": "markdown",
   "id": "editorial-eleven",
   "metadata": {},
   "source": [
    "Créez un ndarray de dimension 4 x 3 et un autre de dimension 3 que vous sommerez.\n",
    "\n",
    "<img src='https://numpy.org/doc/stable/_images/broadcasting_2.png' width=\"300\" height=\"500\">"
   ]
  },
  {
   "cell_type": "code",
   "execution_count": 76,
   "id": "foster-boring",
   "metadata": {},
   "outputs": [],
   "source": [
    "# Essayez ensuite avec un ndarray de dimension 4 x 3 et un autre de dimension 4\n",
    "\n",
    "# Qu'en concluez-vous?\n",
    "# Vous pouvez maintenant essayer avec un ndarray de dimension 4 x 3 et un autre de dimension 4 x 1"
   ]
  },
  {
   "cell_type": "code",
   "execution_count": 82,
   "id": "006b8921",
   "metadata": {},
   "outputs": [
    {
     "name": "stdout",
     "output_type": "stream",
     "text": [
      "[[5. 5. 5.]\n",
      " [5. 5. 5.]\n",
      " [5. 5. 5.]\n",
      " [5. 5. 5.]]\n"
     ]
    }
   ],
   "source": [
    "A43 = numpy.ones((4, 3))\n",
    "# B3 = numpy.ones(4) * 4\n",
    "B3 = numpy.ones((4, 1)) * 4\n",
    "print(A43 + B3)\n"
   ]
  },
  {
   "cell_type": "markdown",
   "id": "passive-publicity",
   "metadata": {},
   "source": [
    "Il est également possible d'ajouter une dimension temporaire au 2e ndarray pour effectuer des produits vectoriels.\n",
    "\n",
    "Que se passe-t'il dans l'exemple suivant?"
   ]
  },
  {
   "cell_type": "code",
   "execution_count": 83,
   "id": "referenced-factor",
   "metadata": {},
   "outputs": [
    {
     "data": {
      "text/plain": [
       "array([[ 1.,  2.,  3.],\n",
       "       [11., 12., 13.],\n",
       "       [21., 22., 23.],\n",
       "       [31., 32., 33.]])"
      ]
     },
     "execution_count": 83,
     "metadata": {},
     "output_type": "execute_result"
    }
   ],
   "source": [
    "a = numpy.array([0.0, 10.0, 20.0, 30.0])\n",
    "b = numpy.array([1.0, 2.0, 3.0])\n",
    "a[:,numpy.newaxis] + b"
   ]
  },
  {
   "cell_type": "markdown",
   "id": "floppy-edmonton",
   "metadata": {},
   "source": [
    "<img src='https://jakevdp.github.io/PythonDataScienceHandbook/figures/02.05-broadcasting.png' width=\"300\" height=\"500\">\n"
   ]
  },
  {
   "cell_type": "markdown",
   "id": "fresh-wedding",
   "metadata": {},
   "source": [
    "## Somme de Einstein\n",
    "\n",
    "La notation d'Einstein est un raccourci de notation utile pour la manipulation des équations concernant des coordonnées."
   ]
  },
  {
   "cell_type": "code",
   "execution_count": 86,
   "id": "norwegian-canvas",
   "metadata": {},
   "outputs": [
    {
     "name": "stdout",
     "output_type": "stream",
     "text": [
      "[[ 0  1  2  3  4]\n",
      " [ 5  6  7  8  9]\n",
      " [10 11 12 13 14]\n",
      " [15 16 17 18 19]\n",
      " [20 21 22 23 24]]\n"
     ]
    }
   ],
   "source": [
    "A = numpy.arange(25).reshape(5,5)\n",
    "print(a)"
   ]
  },
  {
   "cell_type": "markdown",
   "id": "actual-bonus",
   "metadata": {},
   "source": [
    "Peut être utilisée pour calculer la trace d'une matrice:"
   ]
  },
  {
   "cell_type": "code",
   "execution_count": 87,
   "id": "brilliant-stock",
   "metadata": {},
   "outputs": [
    {
     "data": {
      "text/plain": [
       "60"
      ]
     },
     "execution_count": 87,
     "metadata": {},
     "output_type": "execute_result"
    }
   ],
   "source": [
    "numpy.einsum('ii', A) # On somme tous les termes de coordonnées (i, i) les valeurs limites de 'i' sont implicites."
   ]
  },
  {
   "cell_type": "markdown",
   "id": "confirmed-discretion",
   "metadata": {},
   "source": [
    "Pour extraire la diagonale:"
   ]
  },
  {
   "cell_type": "code",
   "execution_count": 90,
   "id": "reported-samuel",
   "metadata": {},
   "outputs": [
    {
     "data": {
      "text/plain": [
       "array([ 0,  6, 12, 18, 24])"
      ]
     },
     "execution_count": 90,
     "metadata": {},
     "output_type": "execute_result"
    }
   ],
   "source": [
    "numpy.einsum('ii->i', A) \n",
    "# On extrait les termes de coordonnées (i, i) \n",
    "# qu'on place dans un vecteur (unidimensionnel) à l'indice 'i''"
   ]
  },
  {
   "cell_type": "markdown",
   "id": "0d186f87",
   "metadata": {},
   "source": [
    "Pour sommer les colonnes ou les lignes selon un axe déterminé:"
   ]
  },
  {
   "cell_type": "code",
   "execution_count": 91,
   "id": "graphic-madonna",
   "metadata": {},
   "outputs": [
    {
     "data": {
      "text/plain": [
       "array([ 10,  35,  60,  85, 110])"
      ]
     },
     "execution_count": 91,
     "metadata": {},
     "output_type": "execute_result"
    }
   ],
   "source": [
    "numpy.einsum('ij->i', A)"
   ]
  },
  {
   "cell_type": "markdown",
   "id": "characteristic-world",
   "metadata": {},
   "source": [
    "<div style=\"border: solid 3px #000;\">\n",
    "    <h1 style=\"text-align: center; color:#000; font-family:Georgia; font-size:26px;\">Exercice</h1>\n",
    "    <p style='text-align: left;'> </p>\n",
    "</div>\n",
    "\n",
    "Calculez le produit matriciel d'une matrice $A$ avec sa transposée sans utiliser la transposée explicite (donc avec une sommation de Einstein)."
   ]
  },
  {
   "cell_type": "code",
   "execution_count": 92,
   "id": "analyzed-seating",
   "metadata": {},
   "outputs": [
    {
     "name": "stdout",
     "output_type": "stream",
     "text": [
      "[[  30   80  130  180  230]\n",
      " [  80  255  430  605  780]\n",
      " [ 130  430  730 1030 1330]\n",
      " [ 180  605 1030 1455 1880]\n",
      " [ 230  780 1330 1880 2430]]\n"
     ]
    }
   ],
   "source": [
    "A = numpy.arange(25).reshape(5,5)\n",
    "# Avec la transposée:\n",
    "print(A.dot(A.T))"
   ]
  },
  {
   "cell_type": "code",
   "execution_count": 6,
   "id": "pharmaceutical-margin",
   "metadata": {},
   "outputs": [],
   "source": [
    "# Solution\n"
   ]
  },
  {
   "cell_type": "markdown",
   "id": "severe-removal",
   "metadata": {},
   "source": [
    "Différents modes d'optimisation peuvent être appliquées\n",
    "\n",
    "L'efficacité du calcul n'est pas toujours évidente, n'hésitez à tester et chronométrer les différentes options"
   ]
  },
  {
   "cell_type": "code",
   "execution_count": 101,
   "id": "cardiac-collection",
   "metadata": {},
   "outputs": [
    {
     "name": "stdout",
     "output_type": "stream",
     "text": [
      "Resultat obtenu en 0.28317737579345703 secondes\n"
     ]
    }
   ],
   "source": [
    "a = numpy.ones(64).reshape(2,4,8)\n",
    "\n",
    "#Chronométrez les différentes options en utilisant la somme de einstein brute ou en donnant au paramètre\n",
    "# optimize les valeurs suivantes:  'optimal', 'greedy'\n",
    "\n",
    "\n",
    "#for iteration in range(500):\n",
    "#    _ = numpy.einsum('ijk,ilm,njm,nlk,abc->',a,a,a,a,a)\n",
    "\n",
    "# Puis en utilisant un einsum_path pour optimiser de la façon suivante:\n",
    "#path = np.einsum_path('ijk,ilm,njm,nlk,abc->',a,a,a,a,a, optimize='optimal')[0]\n",
    "\n",
    "\n",
    "#for iteration in range(500):\n",
    "#    _ = numpy.einsum_path('ijk,ilm,njm,nlk,abc->',a,a,a,a,a, optimize='optimal')[0]\n",
    "\n",
    "\n"
   ]
  }
 ],
 "metadata": {
  "kernelspec": {
   "display_name": "Python 3 (ipykernel)",
   "language": "python",
   "name": "python3"
  },
  "language_info": {
   "codemirror_mode": {
    "name": "ipython",
    "version": 3
   },
   "file_extension": ".py",
   "mimetype": "text/x-python",
   "name": "python",
   "nbconvert_exporter": "python",
   "pygments_lexer": "ipython3",
   "version": "3.10.4"
  }
 },
 "nbformat": 4,
 "nbformat_minor": 5
}
