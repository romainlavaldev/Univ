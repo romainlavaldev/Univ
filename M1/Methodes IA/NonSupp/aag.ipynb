{
 "cells": [
  {
   "cell_type": "code",
   "execution_count": 1,
   "metadata": {},
   "outputs": [
    {
     "name": "stdout",
     "output_type": "stream",
     "text": [
      "[1. 2. 3. 4. 5.]\n",
      "[3. 4. 5. 6. 7.]\n"
     ]
    },
    {
     "data": {
      "text/plain": [
       "20.0"
      ]
     },
     "execution_count": 1,
     "metadata": {},
     "output_type": "execute_result"
    }
   ],
   "source": [
    "import numpy as np\n",
    "\n",
    "def distance(x1, x2):\n",
    "    return ((x1 - x2) ** 2).sum()\n",
    "\n",
    "x1 = np.linspace(1,5,5)\n",
    "x2 = np.linspace(3,7,5)\n",
    "\n",
    "print(x1)\n",
    "print(x2)\n",
    "\n",
    "distance(x1, x2)"
   ]
  },
  {
   "cell_type": "code",
   "execution_count": null,
   "metadata": {},
   "outputs": [],
   "source": []
  }
 ],
 "metadata": {
  "kernelspec": {
   "display_name": "Python 3",
   "language": "python",
   "name": "python3"
  },
  "language_info": {
   "codemirror_mode": {
    "name": "ipython",
    "version": 3
   },
   "file_extension": ".py",
   "mimetype": "text/x-python",
   "name": "python",
   "nbconvert_exporter": "python",
   "pygments_lexer": "ipython3",
   "version": "3.10.7"
  },
  "orig_nbformat": 4,
  "vscode": {
   "interpreter": {
    "hash": "6ba3065d0b9f86ff0d2b9d5bd558d01daec4eb9594c4f291a0280d316974ca98"
   }
  }
 },
 "nbformat": 4,
 "nbformat_minor": 2
}
