{
 "cells": [
  {
   "cell_type": "markdown",
   "metadata": {},
   "source": [
    "**Imports**"
   ]
  },
  {
   "cell_type": "code",
   "execution_count": 284,
   "metadata": {},
   "outputs": [],
   "source": [
    "import numpy as np\n",
    "import matplotlib.pyplot as plt\n",
    "from sklearn.datasets import load_iris\n"
   ]
  },
  {
   "cell_type": "markdown",
   "metadata": {},
   "source": [
    "**Functions**"
   ]
  },
  {
   "cell_type": "code",
   "execution_count": 285,
   "metadata": {},
   "outputs": [],
   "source": [
    "def dist(x, y):\n",
    "    return np.abs(np.sum(y**2 - x**2))"
   ]
  },
  {
   "cell_type": "code",
   "execution_count": 286,
   "metadata": {},
   "outputs": [],
   "source": [
    "def closestCluster(x, centers):\n",
    "    i = 0\n",
    "    closest = 0\n",
    "    closestDist = dist(x, centers[0])\n",
    "\n",
    "    for center in centers:\n",
    "        distCenter = dist(x, center)\n",
    "        \n",
    "        if distCenter < closestDist:\n",
    "            closest = i\n",
    "            closestDist = distCenter\n",
    "\n",
    "        i += 1\n",
    "        \n",
    "    return closest\n"
   ]
  },
  {
   "cell_type": "code",
   "execution_count": 287,
   "metadata": {},
   "outputs": [],
   "source": [
    "def initClusters(datas, k):\n",
    "    centers = datas[np.random.randint(datas.shape[0], size=k), :]\n",
    "\n",
    "    clusters = {}\n",
    "    for i in range(centers.shape[0]):\n",
    "        clusters[i] = [];\n",
    "\n",
    "    return (centers, clusters)"
   ]
  },
  {
   "cell_type": "code",
   "execution_count": 288,
   "metadata": {},
   "outputs": [],
   "source": [
    "def sortByClusters(datas, centers, clusters):\n",
    "    for i in range(datas.shape[0]):\n",
    "        clostest = closestCluster(datas[i], centers)\n",
    "        clusters[clostest].append(i)\n",
    "\n",
    "    return clusters\n"
   ]
  },
  {
   "cell_type": "code",
   "execution_count": 293,
   "metadata": {},
   "outputs": [],
   "source": [
    "def updateCenters(datas, centers, clusters):\n",
    "    for clusterId, datasInClusterIds in clusters.items():\n",
    "        newCluster = np.zeros((datas[0].shape))\n",
    "        for dataId in datasInClusterIds:\n",
    "            newCluster += datas[dataId]\n",
    "        centers[clusterId] = newCluster / len(datasInClusterIds)"
   ]
  },
  {
   "cell_type": "code",
   "execution_count": 308,
   "metadata": {},
   "outputs": [],
   "source": [
    "def generateKmeansResults(clusters, numberOfDatas):\n",
    "    results = np.zeros((numberOfDatas,))\n",
    "\n",
    "    for clusterId, datasInClusterIds in clusters.items():\n",
    "        for dataId in datasInClusterIds:\n",
    "            results[datasInClusterIds] = clusterId\n",
    "\n",
    "    return results"
   ]
  },
  {
   "cell_type": "code",
   "execution_count": 309,
   "metadata": {},
   "outputs": [],
   "source": [
    "def kmeans(datas, k = 3):\n",
    "\n",
    "    (centers, clusters) = initClusters(datas, k)\n",
    "\n",
    "    tmp = centers.copy() + 1\n",
    "\n",
    "    while((tmp != centers).all()):\n",
    "        #tri\n",
    "        sortByClusters(datas, centers, clusters)\n",
    "\n",
    "        #calcul nouveaux centres\n",
    "        updateCenters(datas, centers, clusters)\n",
    "\n",
    "        tmp = centers.copy()\n",
    "\n",
    "    print(clusters)\n",
    "\n",
    "    return generateKmeansResults(clusters, datas.shape[0])\n",
    "    "
   ]
  },
  {
   "cell_type": "markdown",
   "metadata": {},
   "source": [
    "**Exec**"
   ]
  },
  {
   "cell_type": "code",
   "execution_count": 310,
   "metadata": {},
   "outputs": [],
   "source": [
    "#DATAS\n",
    "iris = load_iris().data"
   ]
  },
  {
   "cell_type": "code",
   "execution_count": 320,
   "metadata": {},
   "outputs": [
    {
     "name": "stdout",
     "output_type": "stream",
     "text": [
      "{0: [50, 52, 76, 77, 86, 100, 102, 103, 104, 105, 107, 108, 109, 110, 111, 112, 115, 116, 117, 118, 120, 122, 124, 125, 128, 129, 130, 131, 132, 134, 135, 136, 137, 139, 140, 141, 143, 144, 145, 147, 148], 1: [51, 54, 56, 58, 63, 65, 70, 72, 73, 74, 75, 78, 83, 85, 91, 97, 101, 113, 114, 119, 121, 123, 126, 127, 133, 138, 142, 146, 149], 2: [0, 1, 2, 3, 4, 5, 6, 7, 8, 9, 10, 11, 12, 13, 14, 15, 16, 17, 18, 19, 20, 21, 22, 23, 24, 25, 26, 27, 28, 29, 30, 31, 32, 33, 34, 35, 36, 37, 38, 39, 40, 41, 42, 43, 44, 45, 46, 47, 48, 49, 53, 55, 57, 59, 60, 61, 62, 64, 66, 67, 68, 69, 71, 79, 80, 81, 82, 84, 87, 88, 89, 90, 92, 93, 94, 95, 96, 98, 99, 106]}\n"
     ]
    },
    {
     "data": {
      "text/plain": [
       "array([2., 2., 2., 2., 2., 2., 2., 2., 2., 2., 2., 2., 2., 2., 2., 2., 2.,\n",
       "       2., 2., 2., 2., 2., 2., 2., 2., 2., 2., 2., 2., 2., 2., 2., 2., 2.,\n",
       "       2., 2., 2., 2., 2., 2., 2., 2., 2., 2., 2., 2., 2., 2., 2., 2., 0.,\n",
       "       1., 0., 2., 1., 2., 1., 2., 1., 2., 2., 2., 2., 1., 2., 1., 2., 2.,\n",
       "       2., 2., 1., 2., 1., 1., 1., 1., 0., 0., 1., 2., 2., 2., 2., 1., 2.,\n",
       "       1., 0., 2., 2., 2., 2., 1., 2., 2., 2., 2., 2., 1., 2., 2., 0., 1.,\n",
       "       0., 0., 0., 0., 2., 0., 0., 0., 0., 0., 0., 1., 1., 0., 0., 0., 0.,\n",
       "       1., 0., 1., 0., 1., 0., 0., 1., 1., 0., 0., 0., 0., 0., 1., 0., 0.,\n",
       "       0., 0., 1., 0., 0., 0., 1., 0., 0., 0., 1., 0., 0., 1.])"
      ]
     },
     "execution_count": 320,
     "metadata": {},
     "output_type": "execute_result"
    }
   ],
   "source": [
    "kmeans(iris, 3)"
   ]
  },
  {
   "cell_type": "code",
   "execution_count": null,
   "metadata": {},
   "outputs": [],
   "source": []
  },
  {
   "cell_type": "code",
   "execution_count": null,
   "metadata": {},
   "outputs": [],
   "source": []
  },
  {
   "cell_type": "code",
   "execution_count": null,
   "metadata": {},
   "outputs": [],
   "source": []
  }
 ],
 "metadata": {
  "kernelspec": {
   "display_name": "Python 3.8.10 64-bit",
   "language": "python",
   "name": "python3"
  },
  "language_info": {
   "codemirror_mode": {
    "name": "ipython",
    "version": 3
   },
   "file_extension": ".py",
   "mimetype": "text/x-python",
   "name": "python",
   "nbconvert_exporter": "python",
   "pygments_lexer": "ipython3",
   "version": "3.8.10"
  },
  "orig_nbformat": 4,
  "vscode": {
   "interpreter": {
    "hash": "e7370f93d1d0cde622a1f8e1c04877d8463912d04d973331ad4851f04de6915a"
   }
  }
 },
 "nbformat": 4,
 "nbformat_minor": 2
}
