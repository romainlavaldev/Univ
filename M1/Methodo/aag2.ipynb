{
 "cells": [
  {
   "cell_type": "markdown",
   "id": "72e68684",
   "metadata": {},
   "source": [
    "# Méthodologie et données - TD/AAG n°2\n",
    "\n"
   ]
  },
  {
   "cell_type": "markdown",
   "id": "01a07eb2",
   "metadata": {},
   "source": [
    "## Exercice 1 : Fréquence analogique et fréquence discrète\n",
    "\n",
    "On suppose qu'un signal obtenu comme étant la somme de plusieurs sinusoïdes a été échantillonné à 12kHz. On traite les 500 premiers échantillons en effectuant une transformée de Fourier discrète (TFD) du bloc $s_e(n)$ sur $N=1024$ points. La TFD $S_e(k)$ contient des pics aux indices $k=40, 80, 924$ et $984$."
   ]
  },
  {
   "cell_type": "code",
   "execution_count": null,
   "id": "dca55ab9",
   "metadata": {},
   "outputs": [],
   "source": [
    "import numpy as np\n",
    "import matplotlib.pyplot as plt\n",
    "import librosa\n",
    "import scipy.io.wavfile as wav\n",
    "from IPython.display import Audio, display\n",
    "from scipy.fft import fft, fft2, rfft, fftshift"
   ]
  },
  {
   "cell_type": "markdown",
   "id": "b708be15",
   "metadata": {},
   "source": [
    "**Q1** Charger le signal 'multifreq.wav'. Vérifier que la fréquence d'échantillonnage est bien 12kHz. Quelle est la durée du signal en secondes ?"
   ]
  },
  {
   "cell_type": "markdown",
   "id": "c9859dfb",
   "metadata": {},
   "source": [
    "**Q2** Calculer la TFD du signal en suivant les consignes (vous utiliserez bien sûr la fonction fft) et afficher son module. Faire un schéma sur papier du résultat obtenu, en faisant figurer l'échelle fréquentielle en fréquence discrète $k$."
   ]
  },
  {
   "cell_type": "markdown",
   "id": "26622660",
   "metadata": {},
   "source": [
    "**Q3** Quelle est la relation qui existe entre la fréquence $f$ en Hz et la fréquence discrète $k$ de la TFD ? Compléter votre graphique en exprimant l'axe des abscisses en fréquence réelle $f$ en Hz."
   ]
  },
  {
   "cell_type": "markdown",
   "id": "67c6e7cc",
   "metadata": {},
   "source": [
    "**Q4** Combien y a-t-il de sinusoïdes ? Quelles sont leurs fréquences réelles ?"
   ]
  },
  {
   "cell_type": "markdown",
   "id": "3b0e5af5",
   "metadata": {},
   "source": [
    "**Q5** Rappeler une propriété du spectre en module, et ajuster votre échelle des fréquences en conséquence afin de ne visualiser que de l'information utile."
   ]
  },
  {
   "cell_type": "markdown",
   "id": "08553331",
   "metadata": {},
   "source": [
    "## Exercice 2 : TFD et fenêtrage\n",
    "\n",
    "Dans de nombreux cas en traitement du signal, on doit se placer dans des conditions de quasi stationnarité pour effectuer une analyse du signal sur des trames d'une durée fixe. Pour cela, on effectue un fenêtrage du signal. Le signal fenêtré $x_w(n)$ est défini comme le produit du signal et de la fenêtre : $x_w(n) = x(n) \\cdot w(n)$ où $x(n)$ est le signal à analyser et $w(n)$ la fenêtre d'observation de $K$ échantillons de valeur nulle en dehors de l'intervalle d'observation $[0, K-1]$"
   ]
  },
  {
   "cell_type": "markdown",
   "id": "b9e4de35",
   "metadata": {},
   "source": [
    "**Q1** Indiquer la relation théorique qui existe entre les TF continues $X(f)$, $W(f)$ et $X_w(f)$ des signaux discrets respectivement $x(n)$, $w(n)$, $x_w(n)$. En déduire la relation sur les TFD calculées sur les $K$ échantillons où la fenêtre est non nulle."
   ]
  },
  {
   "cell_type": "markdown",
   "id": "35343233",
   "metadata": {},
   "source": [
    "**Q2** Charger le signal 'etjelis.wav'. Indiquer la fréquence d'échantillonnage du signal et sa durée en seconde."
   ]
  },
  {
   "cell_type": "markdown",
   "id": "14b1f795",
   "metadata": {},
   "source": [
    "**Q3** Récupérer la trame qui commence à $t=1$ sec. et qui contient $K=256$ échantillons. Quelle est sa durée ? Afficher la forme d'onde de la trame en indiquant l'axe temporel en secondes. Donner la période approximative en secondes observée sur cette trame."
   ]
  },
  {
   "cell_type": "markdown",
   "id": "ad41805e",
   "metadata": {},
   "source": [
    "**Q4** Calculer et afficher la TFD du signal fenêtré sur $M=K=256$ points, puis $M >> K$ (par exemple $M=2048$). Faites attention à l'échelle des fréquences.\n",
    "\n",
    "Rappeler quelle est la TF continue d'une fenêtre carrée de largeur $M$, puis expliquer l'allure du spectre obtenu dans chaque cas. On pourra afficher seulement une partie du spectre, afin de pouvoir l'observer de façon précise à l'échantillon près. Donner la fréquence du premier pic observé. Retrouvez-vous la valeur calculée à la question Q2 ?"
   ]
  },
  {
   "cell_type": "markdown",
   "id": "d613c7d3",
   "metadata": {},
   "source": [
    "**Q5** Ecrire un script qui permet de visualiser les formes et spectre en module des différentes fenêtres ci-dessous avec une taille de fenêtre de $K=256$ échantillons. Les spectres seront calculés avec $N=256$ puis $1024$ points.\n",
    "* fenêtre rectangulaire\n",
    "* fenêtre triangulaire\n",
    "* fenêtre de Hamming\n",
    "* fenêtre de Hanning"
   ]
  },
  {
   "cell_type": "markdown",
   "id": "fb9134b1",
   "metadata": {},
   "source": [
    "**Q6** Dans le cadre de l'analyse du signal 'etjelis.wav' quelle fenêtre conseillez-vous et pourquoi ?"
   ]
  },
  {
   "cell_type": "markdown",
   "id": "d91a05df",
   "metadata": {},
   "source": [
    "## Exercice 3 : segmentation et spectrogramme.\n",
    "\n",
    "Nous allons maintenant procéder à la segmentation complète du signal 'etjelis.wav' afin de préparer le calcul du spectrogramme."
   ]
  },
  {
   "cell_type": "markdown",
   "id": "d2778f33",
   "metadata": {},
   "source": [
    "**Q1** Construire une fonction qui prend en entrée un signal à une dimension, le découpe en trame de $K$ échantillons tous les $P$ échantillons. Cette fonction retournera un tableau contenant l'ensemble des trames en fonction du temps. Vos trames seront préalablement fenêtrées avec une fenêtre pertinente."
   ]
  },
  {
   "cell_type": "markdown",
   "id": "16e989a5",
   "metadata": {},
   "source": [
    "**Q2** Vous aurez sans doute remarquer que le découpage du signal en trame ne permet pas de tomber sur un nombre de trame entier. Deux options alors, soit vous ne prenez pas en compte la dernière trame incomplète, soit vous ajoutez des zéros pour la compléter (padding). Vous implémenterez le padding."
   ]
  },
  {
   "cell_type": "markdown",
   "id": "1ba4e510",
   "metadata": {},
   "source": [
    "**Q3** Calculer la TFD de chaque trame sur $N= 256$ échantillons et construire une matrice contenant en ligne le temps, et en colonne les fréquences. Afficher ce spectrogramme et comparer-le avec la version de ` librosa`  donnée ci-dessous. Vous prendrez soin de choisir les bons paramètres pour le spectrogramme (les paramètres par défaut ne correspondent pas à ce que vous avez implémenté plus haut).\n",
    "\n",
    "La documentation de `librosa` se trouve ici : https://librosa.org/doc/main/index.html"
   ]
  },
  {
   "cell_type": "code",
   "execution_count": null,
   "id": "b8affb68",
   "metadata": {},
   "outputs": [],
   "source": [
    "import librosa.display\n",
    "ylib, sr = librosa.load('etjelis.wav')\n",
    "D = librosa.stft(ylib)  # STFT of y\n",
    "S_db = librosa.amplitude_to_db(np.abs(D), ref=np.max)\n",
    "plt.figure()\n",
    "librosa.display.specshow(S_db)\n",
    "plt.colorbar()"
   ]
  },
  {
   "cell_type": "code",
   "execution_count": null,
   "id": "50eaba79",
   "metadata": {},
   "outputs": [],
   "source": []
  }
 ],
 "metadata": {
  "kernelspec": {
   "display_name": "Python 3 (ipykernel)",
   "language": "python",
   "name": "python3"
  },
  "language_info": {
   "codemirror_mode": {
    "name": "ipython",
    "version": 3
   },
   "file_extension": ".py",
   "mimetype": "text/x-python",
   "name": "python",
   "nbconvert_exporter": "python",
   "pygments_lexer": "ipython3",
   "version": "3.9.7"
  }
 },
 "nbformat": 4,
 "nbformat_minor": 5
}
